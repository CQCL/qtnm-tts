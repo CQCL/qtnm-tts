{
 "cells": [
  {
   "cell_type": "code",
   "execution_count": 1,
   "metadata": {},
   "outputs": [],
   "source": [
    "from qtnmtts.circuits.lcu import LCUMultiplexorBox\n",
    "import numpy as np\n"
   ]
  },
  {
   "attachments": {},
   "cell_type": "markdown",
   "metadata": {},
   "source": [
    "### Example 1 - Three-qubit Ising model Hamiltonian"
   ]
  },
  {
   "cell_type": "code",
   "execution_count": 2,
   "metadata": {},
   "outputs": [
    {
     "name": "stdout",
     "output_type": "stream",
     "text": [
      "{(Zq[0], Zq[1]): 1.00000000000000, (Zq[1], Zq[2]): 1.00000000000000, (Xq[0]): 1.00000000000000, (Xq[1]): 1.00000000000000, (Xq[2]): 1.00000000000000}\n"
     ]
    }
   ],
   "source": [
    "from qtnmtts.operators import ising_model\n",
    "\n",
    "n_state_qubits = 3\n",
    "h = 1\n",
    "j = 1\n",
    "ising_model_3q = ising_model(3, h, j)\n",
    "print(ising_model_3q)\n"
   ]
  },
  {
   "attachments": {},
   "cell_type": "markdown",
   "metadata": {},
   "source": [
    "Success probability is inversely related to the square of the l1-norm of the operator.\n",
    "It also depends on the initial state of the system. \n",
    "We construct a random normalized initial statevector and use `StatePreparationBox` to prepare this."
   ]
  },
  {
   "cell_type": "code",
   "execution_count": 3,
   "metadata": {},
   "outputs": [
    {
     "data": {
      "text/html": [
       "\n",
       "\n",
       "\n",
       "\n",
       "\n",
       "\n",
       "<div style=\"resize: vertical; overflow: auto; height: 400px; display: block\">\n",
       "    <iframe srcdoc=\"\n",
       "&lt;!DOCTYPE html&gt;\n",
       "&lt;html lang=&#34;en&#34;&gt;\n",
       "&lt;head&gt;\n",
       "    &lt;meta charset=&#34;UTF-8&#34;&gt;\n",
       "    &lt;!-- Download Vue 3--&gt;\n",
       "&lt;script type=&#34;application/javascript&#34; src=&#34;https://cdn.jsdelivr.net/npm/vue@3&#34;&gt;&lt;/script&gt;\n",
       "&lt;!-- Download Circuit Renderer with styles --&gt;\n",
       "&lt;script type=&#34;application/javascript&#34; src=&#34;https://unpkg.com/pytket-circuit-renderer@0.8/dist/pytket-circuit-renderer.umd.js&#34;&gt;&lt;/script&gt;\n",
       "&lt;link rel=&#34;stylesheet&#34; href=&#34;https://unpkg.com/pytket-circuit-renderer@0.8/dist/pytket-circuit-renderer.css&#34;&gt;\n",
       "&lt;/head&gt;\n",
       "&lt;body&gt;\n",
       "\n",
       "\n",
       "\n",
       "    &lt;div id=&#34;circuit-display-vue-container-104f3b32-588f-4b2b-8293-cc3806372052&#34; class=&#34;pytket-circuit-display-container&#34;&gt;\n",
       "        &lt;div style=&#34;display: none&#34;&gt;\n",
       "            &lt;div id=&#34;circuit-json-to-display&#34;&gt;{&#34;bits&#34;: [], &#34;commands&#34;: [{&#34;args&#34;: [[&#34;q&#34;, [0]], [&#34;q&#34;, [1]], [&#34;q&#34;, [2]]], &#34;op&#34;: {&#34;box&#34;: {&#34;id&#34;: &#34;c9cc0bb0-6bd8-49ee-aa6a-19aabfb7def7&#34;, &#34;is_inverse&#34;: false, &#34;statevector&#34;: [[[0.33866227759981393, 0.07425117112711832]], [[0.009111518660937032, 0.03878719302028108]], [[0.2782147169410345, 0.3009196228442753]], [[0.32877588659118795, 0.4186045905674328]], [[0.2188785191471775, 0.0017335577348469103]], [[0.0987010326209392, 0.2248872761301724]], [[0.08696308269846362, 0.35679592929458515]], [[0.3339247632308408, 0.2689406470480754]]], &#34;type&#34;: &#34;StatePreparationBox&#34;, &#34;with_initial_reset&#34;: false}, &#34;type&#34;: &#34;StatePreparationBox&#34;}}, {&#34;args&#34;: [[&#34;p&#34;, [0]], [&#34;p&#34;, [1]], [&#34;p&#34;, [2]], [&#34;q&#34;, [0]], [&#34;q&#34;, [1]], [&#34;q&#34;, [2]]], &#34;op&#34;: {&#34;box&#34;: {&#34;circuit&#34;: {&#34;bits&#34;: [], &#34;commands&#34;: [{&#34;args&#34;: [[&#34;q&#34;, [0]], [&#34;q&#34;, [1]], [&#34;q&#34;, [2]]], &#34;op&#34;: {&#34;box&#34;: {&#34;circuit&#34;: {&#34;bits&#34;: [], &#34;commands&#34;: [{&#34;args&#34;: [[&#34;q&#34;, [0]], [&#34;q&#34;, [1]], [&#34;q&#34;, [2]]], &#34;op&#34;: {&#34;box&#34;: {&#34;id&#34;: &#34;8165c5b0-eda1-437d-ba7e-7bc6a68d5c1d&#34;, &#34;is_inverse&#34;: false, &#34;statevector&#34;: [[[0.4472135954999579, 0.0]], [[0.4472135954999579, 0.0]], [[0.4472135954999579, 0.0]], [[0.4472135954999579, 0.0]], [[0.4472135954999579, 0.0]], [[0.0, 0.0]], [[0.0, 0.0]], [[0.0, 0.0]]], &#34;type&#34;: &#34;StatePreparationBox&#34;, &#34;with_initial_reset&#34;: false}, &#34;type&#34;: &#34;StatePreparationBox&#34;}}], &#34;created_qubits&#34;: [], &#34;discarded_qubits&#34;: [], &#34;implicit_permutation&#34;: [[[&#34;q&#34;, [0]], [&#34;q&#34;, [0]]], [[&#34;q&#34;, [1]], [&#34;q&#34;, [1]]], [[&#34;q&#34;, [2]], [&#34;q&#34;, [2]]]], &#34;name&#34;: &#34;PrepareMultiplexorBox&#34;, &#34;phase&#34;: &#34;0.0&#34;, &#34;qubits&#34;: [[&#34;q&#34;, [0]], [&#34;q&#34;, [1]], [&#34;q&#34;, [2]]]}, &#34;id&#34;: &#34;e35bef66-b608-442a-94ff-0e6deb5f02b3&#34;, &#34;type&#34;: &#34;CircBox&#34;}, &#34;type&#34;: &#34;CircBox&#34;}}, {&#34;args&#34;: [[&#34;q&#34;, [0]], [&#34;q&#34;, [1]], [&#34;q&#34;, [2]], [&#34;q&#34;, [3]], [&#34;q&#34;, [4]], [&#34;q&#34;, [5]]], &#34;op&#34;: {&#34;box&#34;: {&#34;circuit&#34;: {&#34;bits&#34;: [], &#34;commands&#34;: [{&#34;args&#34;: [[&#34;q&#34;, [0]], [&#34;q&#34;, [1]], [&#34;q&#34;, [2]], [&#34;q&#34;, [3]], [&#34;q&#34;, [4]], [&#34;q&#34;, [5]]], &#34;op&#34;: {&#34;box&#34;: {&#34;id&#34;: &#34;fa4ede34-0412-448f-af0a-be191a64e266&#34;, &#34;op_map&#34;: [[[false, false, false], [{&#34;box&#34;: {&#34;id&#34;: &#34;fb228d0d-618a-4236-a47e-f4890a7eae33&#34;, &#34;matrix&#34;: [[[1.0, 0.0], [0.0, 0.0]], [[0.0, 0.0], [-1.0, 0.0]]], &#34;type&#34;: &#34;Unitary1qBox&#34;}, &#34;type&#34;: &#34;Unitary1qBox&#34;}, {&#34;type&#34;: &#34;Z&#34;}, {&#34;type&#34;: &#34;noop&#34;}]], [[false, false, true], [{&#34;box&#34;: {&#34;id&#34;: &#34;2b0fd2c1-9fc7-4337-9f25-b8256ebb4794&#34;, &#34;matrix&#34;: [[[1.0, 0.0], [0.0, 0.0]], [[0.0, 0.0], [1.0, 0.0]]], &#34;type&#34;: &#34;Unitary1qBox&#34;}, &#34;type&#34;: &#34;Unitary1qBox&#34;}, {&#34;type&#34;: &#34;Z&#34;}, {&#34;type&#34;: &#34;Z&#34;}]], [[false, true, false], [{&#34;box&#34;: {&#34;id&#34;: &#34;f844dfed-260d-4ca6-a003-a08a86690bb3&#34;, &#34;matrix&#34;: [[[0.0, 0.0], [1.0, 0.0]], [[1.0, 0.0], [0.0, 0.0]]], &#34;type&#34;: &#34;Unitary1qBox&#34;}, &#34;type&#34;: &#34;Unitary1qBox&#34;}, {&#34;type&#34;: &#34;noop&#34;}, {&#34;type&#34;: &#34;noop&#34;}]], [[false, true, true], [{&#34;box&#34;: {&#34;id&#34;: &#34;30f1a6c1-21b2-4cd0-bd7f-a169c66f8425&#34;, &#34;matrix&#34;: [[[1.0, 0.0], [0.0, 0.0]], [[0.0, 0.0], [1.0, 0.0]]], &#34;type&#34;: &#34;Unitary1qBox&#34;}, &#34;type&#34;: &#34;Unitary1qBox&#34;}, {&#34;type&#34;: &#34;X&#34;}, {&#34;type&#34;: &#34;noop&#34;}]], [[true, false, false], [{&#34;box&#34;: {&#34;id&#34;: &#34;cd29dfd4-03b8-450d-a68b-7cb5870d9f76&#34;, &#34;matrix&#34;: [[[1.0, 0.0], [0.0, 0.0]], [[0.0, 0.0], [1.0, 0.0]]], &#34;type&#34;: &#34;Unitary1qBox&#34;}, &#34;type&#34;: &#34;Unitary1qBox&#34;}, {&#34;type&#34;: &#34;noop&#34;}, {&#34;type&#34;: &#34;X&#34;}]]], &#34;type&#34;: &#34;MultiplexedTensoredU2Box&#34;}, &#34;type&#34;: &#34;MultiplexedTensoredU2Box&#34;}}], &#34;created_qubits&#34;: [], &#34;discarded_qubits&#34;: [], &#34;implicit_permutation&#34;: [[[&#34;q&#34;, [0]], [&#34;q&#34;, [0]]], [[&#34;q&#34;, [1]], [&#34;q&#34;, [1]]], [[&#34;q&#34;, [2]], [&#34;q&#34;, [2]]], [[&#34;q&#34;, [3]], [&#34;q&#34;, [3]]], [[&#34;q&#34;, [4]], [&#34;q&#34;, [4]]], [[&#34;q&#34;, [5]], [&#34;q&#34;, [5]]]], &#34;name&#34;: &#34;SelectMultiplexorBox&#34;, &#34;phase&#34;: &#34;0.0&#34;, &#34;qubits&#34;: [[&#34;q&#34;, [0]], [&#34;q&#34;, [1]], [&#34;q&#34;, [2]], [&#34;q&#34;, [3]], [&#34;q&#34;, [4]], [&#34;q&#34;, [5]]]}, &#34;id&#34;: &#34;a86c4a35-2e7b-4f49-8503-98be17151033&#34;, &#34;type&#34;: &#34;CircBox&#34;}, &#34;type&#34;: &#34;CircBox&#34;}}, {&#34;args&#34;: [[&#34;q&#34;, [0]], [&#34;q&#34;, [1]], [&#34;q&#34;, [2]]], &#34;op&#34;: {&#34;box&#34;: {&#34;circuit&#34;: {&#34;bits&#34;: [], &#34;commands&#34;: [{&#34;args&#34;: [[&#34;q&#34;, [0]], [&#34;q&#34;, [1]], [&#34;q&#34;, [2]]], &#34;op&#34;: {&#34;box&#34;: {&#34;id&#34;: &#34;329fb4c8-9034-4896-bb9b-5d0748e36e95&#34;, &#34;is_inverse&#34;: true, &#34;statevector&#34;: [[[0.4472135954999579, 0.0]], [[0.4472135954999579, 0.0]], [[0.4472135954999579, 0.0]], [[0.4472135954999579, 0.0]], [[0.4472135954999579, 0.0]], [[0.0, 0.0]], [[0.0, 0.0]], [[0.0, 0.0]]], &#34;type&#34;: &#34;StatePreparationBox&#34;, &#34;with_initial_reset&#34;: false}, &#34;type&#34;: &#34;StatePreparationBox&#34;}}], &#34;created_qubits&#34;: [], &#34;discarded_qubits&#34;: [], &#34;implicit_permutation&#34;: [[[&#34;q&#34;, [0]], [&#34;q&#34;, [0]]], [[&#34;q&#34;, [1]], [&#34;q&#34;, [1]]], [[&#34;q&#34;, [2]], [&#34;q&#34;, [2]]]], &#34;name&#34;: &#34;PrepareMultiplexorBox\\u2020&#34;, &#34;phase&#34;: &#34;0.0&#34;, &#34;qubits&#34;: [[&#34;q&#34;, [0]], [&#34;q&#34;, [1]], [&#34;q&#34;, [2]]]}, &#34;id&#34;: &#34;b068161c-a57a-4154-ba50-0ebcfabd3aee&#34;, &#34;type&#34;: &#34;CircBox&#34;}, &#34;type&#34;: &#34;CircBox&#34;}}], &#34;created_qubits&#34;: [], &#34;discarded_qubits&#34;: [], &#34;implicit_permutation&#34;: [[[&#34;q&#34;, [0]], [&#34;q&#34;, [0]]], [[&#34;q&#34;, [1]], [&#34;q&#34;, [1]]], [[&#34;q&#34;, [2]], [&#34;q&#34;, [2]]], [[&#34;q&#34;, [3]], [&#34;q&#34;, [3]]], [[&#34;q&#34;, [4]], [&#34;q&#34;, [4]]], [[&#34;q&#34;, [5]], [&#34;q&#34;, [5]]]], &#34;name&#34;: &#34;LCUMultiplexorBox&#34;, &#34;phase&#34;: &#34;0.0&#34;, &#34;qubits&#34;: [[&#34;q&#34;, [0]], [&#34;q&#34;, [1]], [&#34;q&#34;, [2]], [&#34;q&#34;, [3]], [&#34;q&#34;, [4]], [&#34;q&#34;, [5]]]}, &#34;id&#34;: &#34;5a5c6b14-d30f-409e-9dc3-3378472c8a92&#34;, &#34;type&#34;: &#34;CircBox&#34;}, &#34;type&#34;: &#34;CircBox&#34;}}], &#34;created_qubits&#34;: [], &#34;discarded_qubits&#34;: [], &#34;implicit_permutation&#34;: [[[&#34;p&#34;, [0]], [&#34;p&#34;, [0]]], [[&#34;p&#34;, [1]], [&#34;p&#34;, [1]]], [[&#34;p&#34;, [2]], [&#34;p&#34;, [2]]], [[&#34;q&#34;, [0]], [&#34;q&#34;, [0]]], [[&#34;q&#34;, [1]], [&#34;q&#34;, [1]]], [[&#34;q&#34;, [2]], [&#34;q&#34;, [2]]]], &#34;phase&#34;: &#34;0.0&#34;, &#34;qubits&#34;: [[&#34;p&#34;, [0]], [&#34;p&#34;, [1]], [&#34;p&#34;, [2]], [&#34;q&#34;, [0]], [&#34;q&#34;, [1]], [&#34;q&#34;, [2]]]}&lt;/div&gt;\n",
       "        &lt;/div&gt;\n",
       "        &lt;circuit-display-container\n",
       "                :circuit-element-str=&#34;&#39;#circuit-json-to-display&#39;&#34;\n",
       "                :init-render-options=&#34;initRenderOptions&#34;\n",
       "        &gt;&lt;/circuit-display-container&gt;\n",
       "    &lt;/div&gt;\n",
       "    &lt;script type=&#34;application/javascript&#34;&gt;\n",
       "      const circuitRendererUid = &#34;104f3b32-588f-4b2b-8293-cc3806372052&#34;;\n",
       "      const displayOptions = JSON.parse(&#39;{}&#39;);\n",
       "\n",
       "      // Script to initialise the circuit renderer app\n",
       "\n",
       "const { createApp } = Vue;\n",
       "const circuitDisplayContainer = window[&#34;pytket-circuit-renderer&#34;].default;\n",
       "// Init variables to be shared between circuit display instances\n",
       "if (typeof window.pytketCircuitDisplays === &#34;undefined&#34;) {\n",
       "    window.pytketCircuitDisplays = {};\n",
       "}\n",
       "// Create the root Vue component\n",
       "const app = createApp({\n",
       "    delimiters: [&#39;[[#&#39;, &#39;#]]&#39;],\n",
       "    components: { circuitDisplayContainer },\n",
       "    data () {\n",
       "      return {\n",
       "        initRenderOptions: displayOptions,\n",
       "      }\n",
       "    }\n",
       "})\n",
       "app.config.unwrapInjectedRef = true;\n",
       "app.mount(&#34;#circuit-display-vue-container-&#34;+circuitRendererUid);\n",
       "window.pytketCircuitDisplays[circuitRendererUid] = app;\n",
       "    &lt;/script&gt;\n",
       "\n",
       "\n",
       "\n",
       "&lt;/body&gt;\n",
       "&lt;/html&gt;\n",
       "\"\n",
       "            width=\"100%\" height=\"100%\"\n",
       "            style=\"border: none; outline: none; overflow: auto\"></iframe>\n",
       "</div>\n",
       "\n"
      ],
      "text/plain": [
       "<IPython.core.display.HTML object>"
      ]
     },
     "metadata": {},
     "output_type": "display_data"
    }
   ],
   "source": [
    "from pytket.circuit.display import render_circuit_jupyter\n",
    "from pytket.circuit import StatePreparationBox \n",
    "from qtnmtts.circuits.core import QRegMap\n",
    "\n",
    "np.random.seed(10)\n",
    "state0 = np.random.rand(2**n_state_qubits) + (\n",
    "        1j * np.random.rand(2**n_state_qubits)\n",
    "    )\n",
    "state0 = state0 / np.sqrt(state0.conj().T @ state0)\n",
    "state0_cbox = StatePreparationBox(state0)\n",
    "\n",
    "lcu_box = LCUMultiplexorBox(ising_model_3q,n_state_qubits)\n",
    "lcu_box_circ = lcu_box.get_circuit()\n",
    "lcu_circ = lcu_box.initialise_circuit()\n",
    "lcu_circ.add_gate(state0_cbox,lcu_box.qreg.state) #add initial state\n",
    "qreg_map = QRegMap(lcu_box.q_registers, lcu_circ.q_registers)\n",
    "lcu_circ.add_registerbox(lcu_box, qreg_map)\n",
    "render_circuit_jupyter(lcu_circ)"
   ]
  },
  {
   "attachments": {},
   "cell_type": "markdown",
   "metadata": {},
   "source": [
    "We then do shot measurements and count the number of shots which yield states in the subspace of the Hamiltonian above. (Upper left block of the matrix.)"
   ]
  },
  {
   "cell_type": "code",
   "execution_count": 4,
   "metadata": {},
   "outputs": [
    {
     "name": "stdout",
     "output_type": "stream",
     "text": [
      "running...\n",
      "total shots: 4096, successful shots: 1549\n",
      "final state distribution: {'(0, 0, 0)': 279, '(0, 0, 1)': 202, '(0, 1, 0)': 10, '(0, 1, 1)': 115, '(1, 0, 0)': 118, '(1, 0, 1)': 24, '(1, 1, 0)': 191, '(1, 1, 1)': 610}\n",
      "measurement success probability: 0.378173828125\n"
     ]
    }
   ],
   "source": [
    "cp = lcu_circ.add_c_register(\"cp\", lcu_box.qreg.prepare.size) #len(lcu_box._p)\n",
    "cq = lcu_circ.add_c_register('cq', lcu_box.qreg.state.size)\n",
    "\n",
    "for ii in range(lcu_box.qreg.prepare.size):\n",
    "    lcu_circ.Measure(lcu_box.qreg.prepare[ii],cp[ii])\n",
    "for ii in range(lcu_box.qreg.state.size):\n",
    "    lcu_circ.Measure(lcu_box.qreg.state[ii],cq[ii])\n",
    "\n",
    "from pytket.extensions.qulacs import QulacsBackend\n",
    "backend = QulacsBackend()\n",
    "n_shots = 2**12\n",
    "compiled_circ = backend.get_compiled_circuit(lcu_circ, optimisation_level=1)\n",
    "print('running...')\n",
    "\n",
    "result = backend.run_circuit(compiled_circ, n_shots=n_shots)\n",
    "result._state = None\n",
    "result_dist = result.get_counts() #get_distribution()\n",
    "p_reg_size = lcu_box.qreg.prepare.size\n",
    "lcu_post_select_dist =  {str(kk[p_reg_size:]) : v for kk,v in result_dist.items() if kk[:p_reg_size] == tuple(0 for i in range(p_reg_size))}\n",
    "print(f'total shots: {n_shots}, successful shots: {sum(lcu_post_select_dist.values())}')\n",
    "print(f'final state distribution: {lcu_post_select_dist}')\n",
    "print(f'measurement success probability: {sum(lcu_post_select_dist.values())/n_shots}')"
   ]
  },
  {
   "attachments": {},
   "cell_type": "markdown",
   "metadata": {},
   "source": [
    "### Analytical success probability and amplified success probability"
   ]
  },
  {
   "cell_type": "code",
   "execution_count": 5,
   "metadata": {},
   "outputs": [
    {
     "name": "stdout",
     "output_type": "stream",
     "text": [
      "success probability (analytical): [[0.36954907+0.j]]\n",
      "amplified success probability (analytical): [[0.49388257+0.j]]\n"
     ]
    }
   ],
   "source": [
    "lcu_block_mat = ising_model_3q.to_sparse_matrix().todense()\n",
    "statef = lcu_block_mat @ state0\n",
    "alpha = lcu_box.l1_norm\n",
    "success_probability = (statef @ statef.conj().transpose())/np.abs(alpha)**2\n",
    "print(f'success probability (analytical): {success_probability}')\n",
    "\n",
    "statef_amp = ((3 * lcu_block_mat) - ( (4/alpha**2) * lcu_block_mat @ lcu_block_mat.conj().transpose() @ lcu_block_mat)) @ state0\n",
    "success_probability_amp = ( statef_amp @ statef_amp.conj().transpose())/alpha**2\n",
    "print(f'amplified success probability (analytical): {success_probability_amp}')"
   ]
  },
  {
   "attachments": {},
   "cell_type": "markdown",
   "metadata": {},
   "source": [
    "Let's see if including an `AmplificationBox` will result in the expected amplification above."
   ]
  },
  {
   "cell_type": "code",
   "execution_count": 6,
   "metadata": {},
   "outputs": [
    {
     "name": "stdout",
     "output_type": "stream",
     "text": [
      "Inside the AmplificationBox:\n"
     ]
    },
    {
     "data": {
      "text/html": [
       "\n",
       "\n",
       "\n",
       "\n",
       "\n",
       "\n",
       "<div style=\"resize: vertical; overflow: auto; height: 400px; display: block\">\n",
       "    <iframe srcdoc=\"\n",
       "&lt;!DOCTYPE html&gt;\n",
       "&lt;html lang=&#34;en&#34;&gt;\n",
       "&lt;head&gt;\n",
       "    &lt;meta charset=&#34;UTF-8&#34;&gt;\n",
       "    &lt;!-- Download Vue 3--&gt;\n",
       "&lt;script type=&#34;application/javascript&#34; src=&#34;https://cdn.jsdelivr.net/npm/vue@3&#34;&gt;&lt;/script&gt;\n",
       "&lt;!-- Download Circuit Renderer with styles --&gt;\n",
       "&lt;script type=&#34;application/javascript&#34; src=&#34;https://unpkg.com/pytket-circuit-renderer@0.8/dist/pytket-circuit-renderer.umd.js&#34;&gt;&lt;/script&gt;\n",
       "&lt;link rel=&#34;stylesheet&#34; href=&#34;https://unpkg.com/pytket-circuit-renderer@0.8/dist/pytket-circuit-renderer.css&#34;&gt;\n",
       "&lt;/head&gt;\n",
       "&lt;body&gt;\n",
       "\n",
       "\n",
       "\n",
       "    &lt;div id=&#34;circuit-display-vue-container-01b2c248-8300-4f99-b800-db08ec339d08&#34; class=&#34;pytket-circuit-display-container&#34;&gt;\n",
       "        &lt;div style=&#34;display: none&#34;&gt;\n",
       "            &lt;div id=&#34;circuit-json-to-display&#34;&gt;{&#34;bits&#34;: [], &#34;commands&#34;: [{&#34;args&#34;: [[&#34;p&#34;, [0]], [&#34;p&#34;, [1]], [&#34;p&#34;, [2]]], &#34;op&#34;: {&#34;box&#34;: {&#34;circuit&#34;: {&#34;bits&#34;: [], &#34;commands&#34;: [{&#34;args&#34;: [[&#34;q&#34;, [0]]], &#34;op&#34;: {&#34;type&#34;: &#34;X&#34;}}, {&#34;args&#34;: [[&#34;q&#34;, [1]]], &#34;op&#34;: {&#34;type&#34;: &#34;X&#34;}}, {&#34;args&#34;: [[&#34;q&#34;, [2]]], &#34;op&#34;: {&#34;type&#34;: &#34;X&#34;}}, {&#34;args&#34;: [[&#34;q&#34;, [1]], [&#34;q&#34;, [2]], [&#34;q&#34;, [0]]], &#34;op&#34;: {&#34;n_qb&#34;: 3, &#34;type&#34;: &#34;CnZ&#34;}}, {&#34;args&#34;: [[&#34;q&#34;, [0]]], &#34;op&#34;: {&#34;type&#34;: &#34;X&#34;}}, {&#34;args&#34;: [[&#34;q&#34;, [1]]], &#34;op&#34;: {&#34;type&#34;: &#34;X&#34;}}, {&#34;args&#34;: [[&#34;q&#34;, [2]]], &#34;op&#34;: {&#34;type&#34;: &#34;X&#34;}}], &#34;created_qubits&#34;: [], &#34;discarded_qubits&#34;: [], &#34;implicit_permutation&#34;: [[[&#34;q&#34;, [0]], [&#34;q&#34;, [0]]], [[&#34;q&#34;, [1]], [&#34;q&#34;, [1]]], [[&#34;q&#34;, [2]], [&#34;q&#34;, [2]]]], &#34;name&#34;: &#34;ReflectionBox&#34;, &#34;phase&#34;: &#34;0.0&#34;, &#34;qubits&#34;: [[&#34;q&#34;, [0]], [&#34;q&#34;, [1]], [&#34;q&#34;, [2]]]}, &#34;id&#34;: &#34;a1ceb558-fa90-4258-bdcb-c966caf63f7a&#34;, &#34;type&#34;: &#34;CircBox&#34;}, &#34;type&#34;: &#34;CircBox&#34;}}, {&#34;args&#34;: [[&#34;p&#34;, [0]], [&#34;p&#34;, [1]], [&#34;p&#34;, [2]], [&#34;q&#34;, [0]], [&#34;q&#34;, [1]], [&#34;q&#34;, [2]]], &#34;op&#34;: {&#34;box&#34;: {&#34;circuit&#34;: {&#34;bits&#34;: [], &#34;commands&#34;: [{&#34;args&#34;: [[&#34;q&#34;, [0]], [&#34;q&#34;, [1]], [&#34;q&#34;, [2]]], &#34;op&#34;: {&#34;box&#34;: {&#34;circuit&#34;: {&#34;bits&#34;: [], &#34;commands&#34;: [{&#34;args&#34;: [[&#34;q&#34;, [0]], [&#34;q&#34;, [1]], [&#34;q&#34;, [2]]], &#34;op&#34;: {&#34;box&#34;: {&#34;id&#34;: &#34;b13e13a6-68ea-42c9-a304-9293da9ec686&#34;, &#34;is_inverse&#34;: false, &#34;statevector&#34;: [[[0.4472135954999579, 0.0]], [[0.4472135954999579, 0.0]], [[0.4472135954999579, 0.0]], [[0.4472135954999579, 0.0]], [[0.4472135954999579, 0.0]], [[0.0, 0.0]], [[0.0, 0.0]], [[0.0, 0.0]]], &#34;type&#34;: &#34;StatePreparationBox&#34;, &#34;with_initial_reset&#34;: false}, &#34;type&#34;: &#34;StatePreparationBox&#34;}}], &#34;created_qubits&#34;: [], &#34;discarded_qubits&#34;: [], &#34;implicit_permutation&#34;: [[[&#34;q&#34;, [0]], [&#34;q&#34;, [0]]], [[&#34;q&#34;, [1]], [&#34;q&#34;, [1]]], [[&#34;q&#34;, [2]], [&#34;q&#34;, [2]]]], &#34;phase&#34;: &#34;0.0&#34;, &#34;qubits&#34;: [[&#34;q&#34;, [0]], [&#34;q&#34;, [1]], [&#34;q&#34;, [2]]]}, &#34;id&#34;: &#34;09816918-bc84-4f90-bf5d-a43bb60cd2dd&#34;, &#34;type&#34;: &#34;CircBox&#34;}, &#34;type&#34;: &#34;CircBox&#34;}}, {&#34;args&#34;: [[&#34;q&#34;, [0]], [&#34;q&#34;, [1]], [&#34;q&#34;, [2]], [&#34;q&#34;, [3]], [&#34;q&#34;, [4]], [&#34;q&#34;, [5]]], &#34;op&#34;: {&#34;box&#34;: {&#34;circuit&#34;: {&#34;bits&#34;: [], &#34;commands&#34;: [{&#34;args&#34;: [[&#34;q&#34;, [0]], [&#34;q&#34;, [1]], [&#34;q&#34;, [2]], [&#34;q&#34;, [3]], [&#34;q&#34;, [4]], [&#34;q&#34;, [5]]], &#34;op&#34;: {&#34;box&#34;: {&#34;id&#34;: &#34;eca1c387-5ac2-464c-a0a1-da98f787e8a7&#34;, &#34;op_map&#34;: [[[false, false, false], [{&#34;box&#34;: {&#34;id&#34;: &#34;a5cc9bb7-df3f-42b3-a0c0-9a7620608f48&#34;, &#34;matrix&#34;: [[[1.0, -0.0], [0.0, -0.0]], [[0.0, -0.0], [-1.0, -0.0]]], &#34;type&#34;: &#34;Unitary1qBox&#34;}, &#34;type&#34;: &#34;Unitary1qBox&#34;}, {&#34;type&#34;: &#34;Z&#34;}, {&#34;type&#34;: &#34;noop&#34;}]], [[false, false, true], [{&#34;box&#34;: {&#34;id&#34;: &#34;c66ad062-c978-40f2-beb0-b49de37d6c6d&#34;, &#34;matrix&#34;: [[[1.0, -0.0], [0.0, -0.0]], [[0.0, -0.0], [1.0, -0.0]]], &#34;type&#34;: &#34;Unitary1qBox&#34;}, &#34;type&#34;: &#34;Unitary1qBox&#34;}, {&#34;type&#34;: &#34;Z&#34;}, {&#34;type&#34;: &#34;Z&#34;}]], [[false, true, false], [{&#34;box&#34;: {&#34;id&#34;: &#34;d025c719-e4a9-4466-861a-396e82d64a4e&#34;, &#34;matrix&#34;: [[[0.0, -0.0], [1.0, -0.0]], [[1.0, -0.0], [0.0, -0.0]]], &#34;type&#34;: &#34;Unitary1qBox&#34;}, &#34;type&#34;: &#34;Unitary1qBox&#34;}, {&#34;type&#34;: &#34;noop&#34;}, {&#34;type&#34;: &#34;noop&#34;}]], [[false, true, true], [{&#34;box&#34;: {&#34;id&#34;: &#34;c18430e6-1c92-432e-a514-8b4a6c07527b&#34;, &#34;matrix&#34;: [[[1.0, -0.0], [0.0, -0.0]], [[0.0, -0.0], [1.0, -0.0]]], &#34;type&#34;: &#34;Unitary1qBox&#34;}, &#34;type&#34;: &#34;Unitary1qBox&#34;}, {&#34;type&#34;: &#34;X&#34;}, {&#34;type&#34;: &#34;noop&#34;}]], [[true, false, false], [{&#34;box&#34;: {&#34;id&#34;: &#34;69231ce1-db4a-4a5d-8bfe-92e90e8f9da9&#34;, &#34;matrix&#34;: [[[1.0, -0.0], [0.0, -0.0]], [[0.0, -0.0], [1.0, -0.0]]], &#34;type&#34;: &#34;Unitary1qBox&#34;}, &#34;type&#34;: &#34;Unitary1qBox&#34;}, {&#34;type&#34;: &#34;noop&#34;}, {&#34;type&#34;: &#34;X&#34;}]]], &#34;type&#34;: &#34;MultiplexedTensoredU2Box&#34;}, &#34;type&#34;: &#34;MultiplexedTensoredU2Box&#34;}}], &#34;created_qubits&#34;: [], &#34;discarded_qubits&#34;: [], &#34;implicit_permutation&#34;: [[[&#34;q&#34;, [0]], [&#34;q&#34;, [0]]], [[&#34;q&#34;, [1]], [&#34;q&#34;, [1]]], [[&#34;q&#34;, [2]], [&#34;q&#34;, [2]]], [[&#34;q&#34;, [3]], [&#34;q&#34;, [3]]], [[&#34;q&#34;, [4]], [&#34;q&#34;, [4]]], [[&#34;q&#34;, [5]], [&#34;q&#34;, [5]]]], &#34;phase&#34;: &#34;0.0&#34;, &#34;qubits&#34;: [[&#34;q&#34;, [0]], [&#34;q&#34;, [1]], [&#34;q&#34;, [2]], [&#34;q&#34;, [3]], [&#34;q&#34;, [4]], [&#34;q&#34;, [5]]]}, &#34;id&#34;: &#34;448aa29a-b5c2-4671-be33-a5b2919ac213&#34;, &#34;type&#34;: &#34;CircBox&#34;}, &#34;type&#34;: &#34;CircBox&#34;}}, {&#34;args&#34;: [[&#34;q&#34;, [0]], [&#34;q&#34;, [1]], [&#34;q&#34;, [2]]], &#34;op&#34;: {&#34;box&#34;: {&#34;circuit&#34;: {&#34;bits&#34;: [], &#34;commands&#34;: [{&#34;args&#34;: [[&#34;q&#34;, [0]], [&#34;q&#34;, [1]], [&#34;q&#34;, [2]]], &#34;op&#34;: {&#34;box&#34;: {&#34;id&#34;: &#34;32c79ba5-fee7-4945-be44-880c6dd3e974&#34;, &#34;is_inverse&#34;: true, &#34;statevector&#34;: [[[0.4472135954999579, 0.0]], [[0.4472135954999579, 0.0]], [[0.4472135954999579, 0.0]], [[0.4472135954999579, 0.0]], [[0.4472135954999579, 0.0]], [[0.0, 0.0]], [[0.0, 0.0]], [[0.0, 0.0]]], &#34;type&#34;: &#34;StatePreparationBox&#34;, &#34;with_initial_reset&#34;: false}, &#34;type&#34;: &#34;StatePreparationBox&#34;}}], &#34;created_qubits&#34;: [], &#34;discarded_qubits&#34;: [], &#34;implicit_permutation&#34;: [[[&#34;q&#34;, [0]], [&#34;q&#34;, [0]]], [[&#34;q&#34;, [1]], [&#34;q&#34;, [1]]], [[&#34;q&#34;, [2]], [&#34;q&#34;, [2]]]], &#34;phase&#34;: &#34;0.0&#34;, &#34;qubits&#34;: [[&#34;q&#34;, [0]], [&#34;q&#34;, [1]], [&#34;q&#34;, [2]]]}, &#34;id&#34;: &#34;d894b7a9-8866-4afb-834f-aeac68a3e38f&#34;, &#34;type&#34;: &#34;CircBox&#34;}, &#34;type&#34;: &#34;CircBox&#34;}}], &#34;created_qubits&#34;: [], &#34;discarded_qubits&#34;: [], &#34;implicit_permutation&#34;: [[[&#34;q&#34;, [0]], [&#34;q&#34;, [0]]], [[&#34;q&#34;, [1]], [&#34;q&#34;, [1]]], [[&#34;q&#34;, [2]], [&#34;q&#34;, [2]]], [[&#34;q&#34;, [3]], [&#34;q&#34;, [3]]], [[&#34;q&#34;, [4]], [&#34;q&#34;, [4]]], [[&#34;q&#34;, [5]], [&#34;q&#34;, [5]]]], &#34;name&#34;: &#34;LCUMultiplexorBox\\u2020&#34;, &#34;phase&#34;: &#34;0.0&#34;, &#34;qubits&#34;: [[&#34;q&#34;, [0]], [&#34;q&#34;, [1]], [&#34;q&#34;, [2]], [&#34;q&#34;, [3]], [&#34;q&#34;, [4]], [&#34;q&#34;, [5]]]}, &#34;id&#34;: &#34;b5c75911-6bce-41de-82c9-ec268aaaec93&#34;, &#34;type&#34;: &#34;CircBox&#34;}, &#34;type&#34;: &#34;CircBox&#34;}}, {&#34;args&#34;: [[&#34;p&#34;, [0]], [&#34;p&#34;, [1]], [&#34;p&#34;, [2]]], &#34;op&#34;: {&#34;box&#34;: {&#34;circuit&#34;: {&#34;bits&#34;: [], &#34;commands&#34;: [{&#34;args&#34;: [[&#34;q&#34;, [0]]], &#34;op&#34;: {&#34;type&#34;: &#34;X&#34;}}, {&#34;args&#34;: [[&#34;q&#34;, [1]]], &#34;op&#34;: {&#34;type&#34;: &#34;X&#34;}}, {&#34;args&#34;: [[&#34;q&#34;, [2]]], &#34;op&#34;: {&#34;type&#34;: &#34;X&#34;}}, {&#34;args&#34;: [[&#34;q&#34;, [1]], [&#34;q&#34;, [2]], [&#34;q&#34;, [0]]], &#34;op&#34;: {&#34;n_qb&#34;: 3, &#34;type&#34;: &#34;CnZ&#34;}}, {&#34;args&#34;: [[&#34;q&#34;, [0]]], &#34;op&#34;: {&#34;type&#34;: &#34;X&#34;}}, {&#34;args&#34;: [[&#34;q&#34;, [1]]], &#34;op&#34;: {&#34;type&#34;: &#34;X&#34;}}, {&#34;args&#34;: [[&#34;q&#34;, [2]]], &#34;op&#34;: {&#34;type&#34;: &#34;X&#34;}}], &#34;created_qubits&#34;: [], &#34;discarded_qubits&#34;: [], &#34;implicit_permutation&#34;: [[[&#34;q&#34;, [0]], [&#34;q&#34;, [0]]], [[&#34;q&#34;, [1]], [&#34;q&#34;, [1]]], [[&#34;q&#34;, [2]], [&#34;q&#34;, [2]]]], &#34;name&#34;: &#34;ReflectionBox&#34;, &#34;phase&#34;: &#34;0.0&#34;, &#34;qubits&#34;: [[&#34;q&#34;, [0]], [&#34;q&#34;, [1]], [&#34;q&#34;, [2]]]}, &#34;id&#34;: &#34;f6eca8f2-e56d-4619-a9e9-05ca13e5a324&#34;, &#34;type&#34;: &#34;CircBox&#34;}, &#34;type&#34;: &#34;CircBox&#34;}}, {&#34;args&#34;: [[&#34;p&#34;, [0]], [&#34;p&#34;, [1]], [&#34;p&#34;, [2]], [&#34;q&#34;, [0]], [&#34;q&#34;, [1]], [&#34;q&#34;, [2]]], &#34;op&#34;: {&#34;box&#34;: {&#34;circuit&#34;: {&#34;bits&#34;: [], &#34;commands&#34;: [{&#34;args&#34;: [[&#34;q&#34;, [0]], [&#34;q&#34;, [1]], [&#34;q&#34;, [2]]], &#34;op&#34;: {&#34;box&#34;: {&#34;circuit&#34;: {&#34;bits&#34;: [], &#34;commands&#34;: [{&#34;args&#34;: [[&#34;q&#34;, [0]], [&#34;q&#34;, [1]], [&#34;q&#34;, [2]]], &#34;op&#34;: {&#34;box&#34;: {&#34;id&#34;: &#34;8165c5b0-eda1-437d-ba7e-7bc6a68d5c1d&#34;, &#34;is_inverse&#34;: false, &#34;statevector&#34;: [[[0.4472135954999579, 0.0]], [[0.4472135954999579, 0.0]], [[0.4472135954999579, 0.0]], [[0.4472135954999579, 0.0]], [[0.4472135954999579, 0.0]], [[0.0, 0.0]], [[0.0, 0.0]], [[0.0, 0.0]]], &#34;type&#34;: &#34;StatePreparationBox&#34;, &#34;with_initial_reset&#34;: false}, &#34;type&#34;: &#34;StatePreparationBox&#34;}}], &#34;created_qubits&#34;: [], &#34;discarded_qubits&#34;: [], &#34;implicit_permutation&#34;: [[[&#34;q&#34;, [0]], [&#34;q&#34;, [0]]], [[&#34;q&#34;, [1]], [&#34;q&#34;, [1]]], [[&#34;q&#34;, [2]], [&#34;q&#34;, [2]]]], &#34;name&#34;: &#34;PrepareMultiplexorBox&#34;, &#34;phase&#34;: &#34;0.0&#34;, &#34;qubits&#34;: [[&#34;q&#34;, [0]], [&#34;q&#34;, [1]], [&#34;q&#34;, [2]]]}, &#34;id&#34;: &#34;e35bef66-b608-442a-94ff-0e6deb5f02b3&#34;, &#34;type&#34;: &#34;CircBox&#34;}, &#34;type&#34;: &#34;CircBox&#34;}}, {&#34;args&#34;: [[&#34;q&#34;, [0]], [&#34;q&#34;, [1]], [&#34;q&#34;, [2]], [&#34;q&#34;, [3]], [&#34;q&#34;, [4]], [&#34;q&#34;, [5]]], &#34;op&#34;: {&#34;box&#34;: {&#34;circuit&#34;: {&#34;bits&#34;: [], &#34;commands&#34;: [{&#34;args&#34;: [[&#34;q&#34;, [0]], [&#34;q&#34;, [1]], [&#34;q&#34;, [2]], [&#34;q&#34;, [3]], [&#34;q&#34;, [4]], [&#34;q&#34;, [5]]], &#34;op&#34;: {&#34;box&#34;: {&#34;id&#34;: &#34;fa4ede34-0412-448f-af0a-be191a64e266&#34;, &#34;op_map&#34;: [[[false, false, false], [{&#34;box&#34;: {&#34;id&#34;: &#34;fb228d0d-618a-4236-a47e-f4890a7eae33&#34;, &#34;matrix&#34;: [[[1.0, 0.0], [0.0, 0.0]], [[0.0, 0.0], [-1.0, 0.0]]], &#34;type&#34;: &#34;Unitary1qBox&#34;}, &#34;type&#34;: &#34;Unitary1qBox&#34;}, {&#34;type&#34;: &#34;Z&#34;}, {&#34;type&#34;: &#34;noop&#34;}]], [[false, false, true], [{&#34;box&#34;: {&#34;id&#34;: &#34;2b0fd2c1-9fc7-4337-9f25-b8256ebb4794&#34;, &#34;matrix&#34;: [[[1.0, 0.0], [0.0, 0.0]], [[0.0, 0.0], [1.0, 0.0]]], &#34;type&#34;: &#34;Unitary1qBox&#34;}, &#34;type&#34;: &#34;Unitary1qBox&#34;}, {&#34;type&#34;: &#34;Z&#34;}, {&#34;type&#34;: &#34;Z&#34;}]], [[false, true, false], [{&#34;box&#34;: {&#34;id&#34;: &#34;f844dfed-260d-4ca6-a003-a08a86690bb3&#34;, &#34;matrix&#34;: [[[0.0, 0.0], [1.0, 0.0]], [[1.0, 0.0], [0.0, 0.0]]], &#34;type&#34;: &#34;Unitary1qBox&#34;}, &#34;type&#34;: &#34;Unitary1qBox&#34;}, {&#34;type&#34;: &#34;noop&#34;}, {&#34;type&#34;: &#34;noop&#34;}]], [[false, true, true], [{&#34;box&#34;: {&#34;id&#34;: &#34;30f1a6c1-21b2-4cd0-bd7f-a169c66f8425&#34;, &#34;matrix&#34;: [[[1.0, 0.0], [0.0, 0.0]], [[0.0, 0.0], [1.0, 0.0]]], &#34;type&#34;: &#34;Unitary1qBox&#34;}, &#34;type&#34;: &#34;Unitary1qBox&#34;}, {&#34;type&#34;: &#34;X&#34;}, {&#34;type&#34;: &#34;noop&#34;}]], [[true, false, false], [{&#34;box&#34;: {&#34;id&#34;: &#34;cd29dfd4-03b8-450d-a68b-7cb5870d9f76&#34;, &#34;matrix&#34;: [[[1.0, 0.0], [0.0, 0.0]], [[0.0, 0.0], [1.0, 0.0]]], &#34;type&#34;: &#34;Unitary1qBox&#34;}, &#34;type&#34;: &#34;Unitary1qBox&#34;}, {&#34;type&#34;: &#34;noop&#34;}, {&#34;type&#34;: &#34;X&#34;}]]], &#34;type&#34;: &#34;MultiplexedTensoredU2Box&#34;}, &#34;type&#34;: &#34;MultiplexedTensoredU2Box&#34;}}], &#34;created_qubits&#34;: [], &#34;discarded_qubits&#34;: [], &#34;implicit_permutation&#34;: [[[&#34;q&#34;, [0]], [&#34;q&#34;, [0]]], [[&#34;q&#34;, [1]], [&#34;q&#34;, [1]]], [[&#34;q&#34;, [2]], [&#34;q&#34;, [2]]], [[&#34;q&#34;, [3]], [&#34;q&#34;, [3]]], [[&#34;q&#34;, [4]], [&#34;q&#34;, [4]]], [[&#34;q&#34;, [5]], [&#34;q&#34;, [5]]]], &#34;name&#34;: &#34;SelectMultiplexorBox&#34;, &#34;phase&#34;: &#34;0.0&#34;, &#34;qubits&#34;: [[&#34;q&#34;, [0]], [&#34;q&#34;, [1]], [&#34;q&#34;, [2]], [&#34;q&#34;, [3]], [&#34;q&#34;, [4]], [&#34;q&#34;, [5]]]}, &#34;id&#34;: &#34;a86c4a35-2e7b-4f49-8503-98be17151033&#34;, &#34;type&#34;: &#34;CircBox&#34;}, &#34;type&#34;: &#34;CircBox&#34;}}, {&#34;args&#34;: [[&#34;q&#34;, [0]], [&#34;q&#34;, [1]], [&#34;q&#34;, [2]]], &#34;op&#34;: {&#34;box&#34;: {&#34;circuit&#34;: {&#34;bits&#34;: [], &#34;commands&#34;: [{&#34;args&#34;: [[&#34;q&#34;, [0]], [&#34;q&#34;, [1]], [&#34;q&#34;, [2]]], &#34;op&#34;: {&#34;box&#34;: {&#34;id&#34;: &#34;329fb4c8-9034-4896-bb9b-5d0748e36e95&#34;, &#34;is_inverse&#34;: true, &#34;statevector&#34;: [[[0.4472135954999579, 0.0]], [[0.4472135954999579, 0.0]], [[0.4472135954999579, 0.0]], [[0.4472135954999579, 0.0]], [[0.4472135954999579, 0.0]], [[0.0, 0.0]], [[0.0, 0.0]], [[0.0, 0.0]]], &#34;type&#34;: &#34;StatePreparationBox&#34;, &#34;with_initial_reset&#34;: false}, &#34;type&#34;: &#34;StatePreparationBox&#34;}}], &#34;created_qubits&#34;: [], &#34;discarded_qubits&#34;: [], &#34;implicit_permutation&#34;: [[[&#34;q&#34;, [0]], [&#34;q&#34;, [0]]], [[&#34;q&#34;, [1]], [&#34;q&#34;, [1]]], [[&#34;q&#34;, [2]], [&#34;q&#34;, [2]]]], &#34;name&#34;: &#34;PrepareMultiplexorBox\\u2020&#34;, &#34;phase&#34;: &#34;0.0&#34;, &#34;qubits&#34;: [[&#34;q&#34;, [0]], [&#34;q&#34;, [1]], [&#34;q&#34;, [2]]]}, &#34;id&#34;: &#34;b068161c-a57a-4154-ba50-0ebcfabd3aee&#34;, &#34;type&#34;: &#34;CircBox&#34;}, &#34;type&#34;: &#34;CircBox&#34;}}], &#34;created_qubits&#34;: [], &#34;discarded_qubits&#34;: [], &#34;implicit_permutation&#34;: [[[&#34;q&#34;, [0]], [&#34;q&#34;, [0]]], [[&#34;q&#34;, [1]], [&#34;q&#34;, [1]]], [[&#34;q&#34;, [2]], [&#34;q&#34;, [2]]], [[&#34;q&#34;, [3]], [&#34;q&#34;, [3]]], [[&#34;q&#34;, [4]], [&#34;q&#34;, [4]]], [[&#34;q&#34;, [5]], [&#34;q&#34;, [5]]]], &#34;name&#34;: &#34;LCUMultiplexorBox&#34;, &#34;phase&#34;: &#34;0.0&#34;, &#34;qubits&#34;: [[&#34;q&#34;, [0]], [&#34;q&#34;, [1]], [&#34;q&#34;, [2]], [&#34;q&#34;, [3]], [&#34;q&#34;, [4]], [&#34;q&#34;, [5]]]}, &#34;id&#34;: &#34;95b0aa4e-f19b-47bc-9816-273ff9b6ff55&#34;, &#34;type&#34;: &#34;CircBox&#34;}, &#34;type&#34;: &#34;CircBox&#34;}}], &#34;created_qubits&#34;: [], &#34;discarded_qubits&#34;: [], &#34;implicit_permutation&#34;: [[[&#34;p&#34;, [0]], [&#34;p&#34;, [0]]], [[&#34;p&#34;, [1]], [&#34;p&#34;, [1]]], [[&#34;p&#34;, [2]], [&#34;p&#34;, [2]]], [[&#34;q&#34;, [0]], [&#34;q&#34;, [0]]], [[&#34;q&#34;, [1]], [&#34;q&#34;, [1]]], [[&#34;q&#34;, [2]], [&#34;q&#34;, [2]]]], &#34;name&#34;: &#34;AmplificationBox&#34;, &#34;phase&#34;: &#34;0.0&#34;, &#34;qubits&#34;: [[&#34;p&#34;, [0]], [&#34;p&#34;, [1]], [&#34;p&#34;, [2]], [&#34;q&#34;, [0]], [&#34;q&#34;, [1]], [&#34;q&#34;, [2]]]}&lt;/div&gt;\n",
       "        &lt;/div&gt;\n",
       "        &lt;circuit-display-container\n",
       "                :circuit-element-str=&#34;&#39;#circuit-json-to-display&#39;&#34;\n",
       "                :init-render-options=&#34;initRenderOptions&#34;\n",
       "        &gt;&lt;/circuit-display-container&gt;\n",
       "    &lt;/div&gt;\n",
       "    &lt;script type=&#34;application/javascript&#34;&gt;\n",
       "      const circuitRendererUid = &#34;01b2c248-8300-4f99-b800-db08ec339d08&#34;;\n",
       "      const displayOptions = JSON.parse(&#39;{}&#39;);\n",
       "\n",
       "      // Script to initialise the circuit renderer app\n",
       "\n",
       "const { createApp } = Vue;\n",
       "const circuitDisplayContainer = window[&#34;pytket-circuit-renderer&#34;].default;\n",
       "// Init variables to be shared between circuit display instances\n",
       "if (typeof window.pytketCircuitDisplays === &#34;undefined&#34;) {\n",
       "    window.pytketCircuitDisplays = {};\n",
       "}\n",
       "// Create the root Vue component\n",
       "const app = createApp({\n",
       "    delimiters: [&#39;[[#&#39;, &#39;#]]&#39;],\n",
       "    components: { circuitDisplayContainer },\n",
       "    data () {\n",
       "      return {\n",
       "        initRenderOptions: displayOptions,\n",
       "      }\n",
       "    }\n",
       "})\n",
       "app.config.unwrapInjectedRef = true;\n",
       "app.mount(&#34;#circuit-display-vue-container-&#34;+circuitRendererUid);\n",
       "window.pytketCircuitDisplays[circuitRendererUid] = app;\n",
       "    &lt;/script&gt;\n",
       "\n",
       "\n",
       "\n",
       "&lt;/body&gt;\n",
       "&lt;/html&gt;\n",
       "\"\n",
       "            width=\"100%\" height=\"100%\"\n",
       "            style=\"border: none; outline: none; overflow: auto\"></iframe>\n",
       "</div>\n",
       "\n"
      ],
      "text/plain": [
       "<IPython.core.display.HTML object>"
      ]
     },
     "metadata": {},
     "output_type": "display_data"
    }
   ],
   "source": [
    "from qtnmtts.circuits.amplitude_amplification import AmplificationBox\n",
    "n_iterations = 1\n",
    "amp_box = AmplificationBox(lcu_box, n_iterations)\n",
    "print('Inside the AmplificationBox:')\n",
    "render_circuit_jupyter(amp_box.reg_circuit)\n",
    "\n"
   ]
  },
  {
   "cell_type": "code",
   "execution_count": 7,
   "metadata": {},
   "outputs": [
    {
     "name": "stdout",
     "output_type": "stream",
     "text": [
      "Amplified LCU circuit:\n"
     ]
    },
    {
     "data": {
      "text/html": [
       "\n",
       "\n",
       "\n",
       "\n",
       "\n",
       "\n",
       "<div style=\"resize: vertical; overflow: auto; height: 400px; display: block\">\n",
       "    <iframe srcdoc=\"\n",
       "&lt;!DOCTYPE html&gt;\n",
       "&lt;html lang=&#34;en&#34;&gt;\n",
       "&lt;head&gt;\n",
       "    &lt;meta charset=&#34;UTF-8&#34;&gt;\n",
       "    &lt;!-- Download Vue 3--&gt;\n",
       "&lt;script type=&#34;application/javascript&#34; src=&#34;https://cdn.jsdelivr.net/npm/vue@3&#34;&gt;&lt;/script&gt;\n",
       "&lt;!-- Download Circuit Renderer with styles --&gt;\n",
       "&lt;script type=&#34;application/javascript&#34; src=&#34;https://unpkg.com/pytket-circuit-renderer@0.8/dist/pytket-circuit-renderer.umd.js&#34;&gt;&lt;/script&gt;\n",
       "&lt;link rel=&#34;stylesheet&#34; href=&#34;https://unpkg.com/pytket-circuit-renderer@0.8/dist/pytket-circuit-renderer.css&#34;&gt;\n",
       "&lt;/head&gt;\n",
       "&lt;body&gt;\n",
       "\n",
       "\n",
       "\n",
       "    &lt;div id=&#34;circuit-display-vue-container-35ce0d4d-78e1-42c0-ae6f-130014906599&#34; class=&#34;pytket-circuit-display-container&#34;&gt;\n",
       "        &lt;div style=&#34;display: none&#34;&gt;\n",
       "            &lt;div id=&#34;circuit-json-to-display&#34;&gt;{&#34;bits&#34;: [], &#34;commands&#34;: [{&#34;args&#34;: [[&#34;q&#34;, [0]], [&#34;q&#34;, [1]], [&#34;q&#34;, [2]]], &#34;op&#34;: {&#34;box&#34;: {&#34;id&#34;: &#34;c9cc0bb0-6bd8-49ee-aa6a-19aabfb7def7&#34;, &#34;is_inverse&#34;: false, &#34;statevector&#34;: [[[0.33866227759981393, 0.07425117112711832]], [[0.009111518660937032, 0.03878719302028108]], [[0.2782147169410345, 0.3009196228442753]], [[0.32877588659118795, 0.4186045905674328]], [[0.2188785191471775, 0.0017335577348469103]], [[0.0987010326209392, 0.2248872761301724]], [[0.08696308269846362, 0.35679592929458515]], [[0.3339247632308408, 0.2689406470480754]]], &#34;type&#34;: &#34;StatePreparationBox&#34;, &#34;with_initial_reset&#34;: false}, &#34;type&#34;: &#34;StatePreparationBox&#34;}}, {&#34;args&#34;: [[&#34;p&#34;, [0]], [&#34;p&#34;, [1]], [&#34;p&#34;, [2]], [&#34;q&#34;, [0]], [&#34;q&#34;, [1]], [&#34;q&#34;, [2]]], &#34;op&#34;: {&#34;box&#34;: {&#34;circuit&#34;: {&#34;bits&#34;: [], &#34;commands&#34;: [{&#34;args&#34;: [[&#34;q&#34;, [0]], [&#34;q&#34;, [1]], [&#34;q&#34;, [2]]], &#34;op&#34;: {&#34;box&#34;: {&#34;circuit&#34;: {&#34;bits&#34;: [], &#34;commands&#34;: [{&#34;args&#34;: [[&#34;q&#34;, [0]], [&#34;q&#34;, [1]], [&#34;q&#34;, [2]]], &#34;op&#34;: {&#34;box&#34;: {&#34;id&#34;: &#34;8165c5b0-eda1-437d-ba7e-7bc6a68d5c1d&#34;, &#34;is_inverse&#34;: false, &#34;statevector&#34;: [[[0.4472135954999579, 0.0]], [[0.4472135954999579, 0.0]], [[0.4472135954999579, 0.0]], [[0.4472135954999579, 0.0]], [[0.4472135954999579, 0.0]], [[0.0, 0.0]], [[0.0, 0.0]], [[0.0, 0.0]]], &#34;type&#34;: &#34;StatePreparationBox&#34;, &#34;with_initial_reset&#34;: false}, &#34;type&#34;: &#34;StatePreparationBox&#34;}}], &#34;created_qubits&#34;: [], &#34;discarded_qubits&#34;: [], &#34;implicit_permutation&#34;: [[[&#34;q&#34;, [0]], [&#34;q&#34;, [0]]], [[&#34;q&#34;, [1]], [&#34;q&#34;, [1]]], [[&#34;q&#34;, [2]], [&#34;q&#34;, [2]]]], &#34;name&#34;: &#34;PrepareMultiplexorBox&#34;, &#34;phase&#34;: &#34;0.0&#34;, &#34;qubits&#34;: [[&#34;q&#34;, [0]], [&#34;q&#34;, [1]], [&#34;q&#34;, [2]]]}, &#34;id&#34;: &#34;e35bef66-b608-442a-94ff-0e6deb5f02b3&#34;, &#34;type&#34;: &#34;CircBox&#34;}, &#34;type&#34;: &#34;CircBox&#34;}}, {&#34;args&#34;: [[&#34;q&#34;, [0]], [&#34;q&#34;, [1]], [&#34;q&#34;, [2]], [&#34;q&#34;, [3]], [&#34;q&#34;, [4]], [&#34;q&#34;, [5]]], &#34;op&#34;: {&#34;box&#34;: {&#34;circuit&#34;: {&#34;bits&#34;: [], &#34;commands&#34;: [{&#34;args&#34;: [[&#34;q&#34;, [0]], [&#34;q&#34;, [1]], [&#34;q&#34;, [2]], [&#34;q&#34;, [3]], [&#34;q&#34;, [4]], [&#34;q&#34;, [5]]], &#34;op&#34;: {&#34;box&#34;: {&#34;id&#34;: &#34;fa4ede34-0412-448f-af0a-be191a64e266&#34;, &#34;op_map&#34;: [[[false, false, false], [{&#34;box&#34;: {&#34;id&#34;: &#34;fb228d0d-618a-4236-a47e-f4890a7eae33&#34;, &#34;matrix&#34;: [[[1.0, 0.0], [0.0, 0.0]], [[0.0, 0.0], [-1.0, 0.0]]], &#34;type&#34;: &#34;Unitary1qBox&#34;}, &#34;type&#34;: &#34;Unitary1qBox&#34;}, {&#34;type&#34;: &#34;Z&#34;}, {&#34;type&#34;: &#34;noop&#34;}]], [[false, false, true], [{&#34;box&#34;: {&#34;id&#34;: &#34;2b0fd2c1-9fc7-4337-9f25-b8256ebb4794&#34;, &#34;matrix&#34;: [[[1.0, 0.0], [0.0, 0.0]], [[0.0, 0.0], [1.0, 0.0]]], &#34;type&#34;: &#34;Unitary1qBox&#34;}, &#34;type&#34;: &#34;Unitary1qBox&#34;}, {&#34;type&#34;: &#34;Z&#34;}, {&#34;type&#34;: &#34;Z&#34;}]], [[false, true, false], [{&#34;box&#34;: {&#34;id&#34;: &#34;f844dfed-260d-4ca6-a003-a08a86690bb3&#34;, &#34;matrix&#34;: [[[0.0, 0.0], [1.0, 0.0]], [[1.0, 0.0], [0.0, 0.0]]], &#34;type&#34;: &#34;Unitary1qBox&#34;}, &#34;type&#34;: &#34;Unitary1qBox&#34;}, {&#34;type&#34;: &#34;noop&#34;}, {&#34;type&#34;: &#34;noop&#34;}]], [[false, true, true], [{&#34;box&#34;: {&#34;id&#34;: &#34;30f1a6c1-21b2-4cd0-bd7f-a169c66f8425&#34;, &#34;matrix&#34;: [[[1.0, 0.0], [0.0, 0.0]], [[0.0, 0.0], [1.0, 0.0]]], &#34;type&#34;: &#34;Unitary1qBox&#34;}, &#34;type&#34;: &#34;Unitary1qBox&#34;}, {&#34;type&#34;: &#34;X&#34;}, {&#34;type&#34;: &#34;noop&#34;}]], [[true, false, false], [{&#34;box&#34;: {&#34;id&#34;: &#34;cd29dfd4-03b8-450d-a68b-7cb5870d9f76&#34;, &#34;matrix&#34;: [[[1.0, 0.0], [0.0, 0.0]], [[0.0, 0.0], [1.0, 0.0]]], &#34;type&#34;: &#34;Unitary1qBox&#34;}, &#34;type&#34;: &#34;Unitary1qBox&#34;}, {&#34;type&#34;: &#34;noop&#34;}, {&#34;type&#34;: &#34;X&#34;}]]], &#34;type&#34;: &#34;MultiplexedTensoredU2Box&#34;}, &#34;type&#34;: &#34;MultiplexedTensoredU2Box&#34;}}], &#34;created_qubits&#34;: [], &#34;discarded_qubits&#34;: [], &#34;implicit_permutation&#34;: [[[&#34;q&#34;, [0]], [&#34;q&#34;, [0]]], [[&#34;q&#34;, [1]], [&#34;q&#34;, [1]]], [[&#34;q&#34;, [2]], [&#34;q&#34;, [2]]], [[&#34;q&#34;, [3]], [&#34;q&#34;, [3]]], [[&#34;q&#34;, [4]], [&#34;q&#34;, [4]]], [[&#34;q&#34;, [5]], [&#34;q&#34;, [5]]]], &#34;name&#34;: &#34;SelectMultiplexorBox&#34;, &#34;phase&#34;: &#34;0.0&#34;, &#34;qubits&#34;: [[&#34;q&#34;, [0]], [&#34;q&#34;, [1]], [&#34;q&#34;, [2]], [&#34;q&#34;, [3]], [&#34;q&#34;, [4]], [&#34;q&#34;, [5]]]}, &#34;id&#34;: &#34;a86c4a35-2e7b-4f49-8503-98be17151033&#34;, &#34;type&#34;: &#34;CircBox&#34;}, &#34;type&#34;: &#34;CircBox&#34;}}, {&#34;args&#34;: [[&#34;q&#34;, [0]], [&#34;q&#34;, [1]], [&#34;q&#34;, [2]]], &#34;op&#34;: {&#34;box&#34;: {&#34;circuit&#34;: {&#34;bits&#34;: [], &#34;commands&#34;: [{&#34;args&#34;: [[&#34;q&#34;, [0]], [&#34;q&#34;, [1]], [&#34;q&#34;, [2]]], &#34;op&#34;: {&#34;box&#34;: {&#34;id&#34;: &#34;329fb4c8-9034-4896-bb9b-5d0748e36e95&#34;, &#34;is_inverse&#34;: true, &#34;statevector&#34;: [[[0.4472135954999579, 0.0]], [[0.4472135954999579, 0.0]], [[0.4472135954999579, 0.0]], [[0.4472135954999579, 0.0]], [[0.4472135954999579, 0.0]], [[0.0, 0.0]], [[0.0, 0.0]], [[0.0, 0.0]]], &#34;type&#34;: &#34;StatePreparationBox&#34;, &#34;with_initial_reset&#34;: false}, &#34;type&#34;: &#34;StatePreparationBox&#34;}}], &#34;created_qubits&#34;: [], &#34;discarded_qubits&#34;: [], &#34;implicit_permutation&#34;: [[[&#34;q&#34;, [0]], [&#34;q&#34;, [0]]], [[&#34;q&#34;, [1]], [&#34;q&#34;, [1]]], [[&#34;q&#34;, [2]], [&#34;q&#34;, [2]]]], &#34;name&#34;: &#34;PrepareMultiplexorBox\\u2020&#34;, &#34;phase&#34;: &#34;0.0&#34;, &#34;qubits&#34;: [[&#34;q&#34;, [0]], [&#34;q&#34;, [1]], [&#34;q&#34;, [2]]]}, &#34;id&#34;: &#34;b068161c-a57a-4154-ba50-0ebcfabd3aee&#34;, &#34;type&#34;: &#34;CircBox&#34;}, &#34;type&#34;: &#34;CircBox&#34;}}], &#34;created_qubits&#34;: [], &#34;discarded_qubits&#34;: [], &#34;implicit_permutation&#34;: [[[&#34;q&#34;, [0]], [&#34;q&#34;, [0]]], [[&#34;q&#34;, [1]], [&#34;q&#34;, [1]]], [[&#34;q&#34;, [2]], [&#34;q&#34;, [2]]], [[&#34;q&#34;, [3]], [&#34;q&#34;, [3]]], [[&#34;q&#34;, [4]], [&#34;q&#34;, [4]]], [[&#34;q&#34;, [5]], [&#34;q&#34;, [5]]]], &#34;name&#34;: &#34;LCUMultiplexorBox&#34;, &#34;phase&#34;: &#34;0.0&#34;, &#34;qubits&#34;: [[&#34;q&#34;, [0]], [&#34;q&#34;, [1]], [&#34;q&#34;, [2]], [&#34;q&#34;, [3]], [&#34;q&#34;, [4]], [&#34;q&#34;, [5]]]}, &#34;id&#34;: &#34;646e32f9-e566-4186-bfd2-3a8d53e2aa01&#34;, &#34;type&#34;: &#34;CircBox&#34;}, &#34;type&#34;: &#34;CircBox&#34;}}, {&#34;args&#34;: [[&#34;p&#34;, [0]], [&#34;p&#34;, [1]], [&#34;p&#34;, [2]], [&#34;q&#34;, [0]], [&#34;q&#34;, [1]], [&#34;q&#34;, [2]]], &#34;op&#34;: {&#34;box&#34;: {&#34;circuit&#34;: {&#34;bits&#34;: [], &#34;commands&#34;: [{&#34;args&#34;: [[&#34;q&#34;, [0]], [&#34;q&#34;, [1]], [&#34;q&#34;, [2]]], &#34;op&#34;: {&#34;box&#34;: {&#34;circuit&#34;: {&#34;bits&#34;: [], &#34;commands&#34;: [{&#34;args&#34;: [[&#34;q&#34;, [0]]], &#34;op&#34;: {&#34;type&#34;: &#34;X&#34;}}, {&#34;args&#34;: [[&#34;q&#34;, [1]]], &#34;op&#34;: {&#34;type&#34;: &#34;X&#34;}}, {&#34;args&#34;: [[&#34;q&#34;, [2]]], &#34;op&#34;: {&#34;type&#34;: &#34;X&#34;}}, {&#34;args&#34;: [[&#34;q&#34;, [1]], [&#34;q&#34;, [2]], [&#34;q&#34;, [0]]], &#34;op&#34;: {&#34;n_qb&#34;: 3, &#34;type&#34;: &#34;CnZ&#34;}}, {&#34;args&#34;: [[&#34;q&#34;, [0]]], &#34;op&#34;: {&#34;type&#34;: &#34;X&#34;}}, {&#34;args&#34;: [[&#34;q&#34;, [1]]], &#34;op&#34;: {&#34;type&#34;: &#34;X&#34;}}, {&#34;args&#34;: [[&#34;q&#34;, [2]]], &#34;op&#34;: {&#34;type&#34;: &#34;X&#34;}}], &#34;created_qubits&#34;: [], &#34;discarded_qubits&#34;: [], &#34;implicit_permutation&#34;: [[[&#34;q&#34;, [0]], [&#34;q&#34;, [0]]], [[&#34;q&#34;, [1]], [&#34;q&#34;, [1]]], [[&#34;q&#34;, [2]], [&#34;q&#34;, [2]]]], &#34;name&#34;: &#34;ReflectionBox&#34;, &#34;phase&#34;: &#34;0.0&#34;, &#34;qubits&#34;: [[&#34;q&#34;, [0]], [&#34;q&#34;, [1]], [&#34;q&#34;, [2]]]}, &#34;id&#34;: &#34;a1ceb558-fa90-4258-bdcb-c966caf63f7a&#34;, &#34;type&#34;: &#34;CircBox&#34;}, &#34;type&#34;: &#34;CircBox&#34;}}, {&#34;args&#34;: [[&#34;q&#34;, [0]], [&#34;q&#34;, [1]], [&#34;q&#34;, [2]], [&#34;q&#34;, [3]], [&#34;q&#34;, [4]], [&#34;q&#34;, [5]]], &#34;op&#34;: {&#34;box&#34;: {&#34;circuit&#34;: {&#34;bits&#34;: [], &#34;commands&#34;: [{&#34;args&#34;: [[&#34;q&#34;, [0]], [&#34;q&#34;, [1]], [&#34;q&#34;, [2]]], &#34;op&#34;: {&#34;box&#34;: {&#34;circuit&#34;: {&#34;bits&#34;: [], &#34;commands&#34;: [{&#34;args&#34;: [[&#34;q&#34;, [0]], [&#34;q&#34;, [1]], [&#34;q&#34;, [2]]], &#34;op&#34;: {&#34;box&#34;: {&#34;id&#34;: &#34;b13e13a6-68ea-42c9-a304-9293da9ec686&#34;, &#34;is_inverse&#34;: false, &#34;statevector&#34;: [[[0.4472135954999579, 0.0]], [[0.4472135954999579, 0.0]], [[0.4472135954999579, 0.0]], [[0.4472135954999579, 0.0]], [[0.4472135954999579, 0.0]], [[0.0, 0.0]], [[0.0, 0.0]], [[0.0, 0.0]]], &#34;type&#34;: &#34;StatePreparationBox&#34;, &#34;with_initial_reset&#34;: false}, &#34;type&#34;: &#34;StatePreparationBox&#34;}}], &#34;created_qubits&#34;: [], &#34;discarded_qubits&#34;: [], &#34;implicit_permutation&#34;: [[[&#34;q&#34;, [0]], [&#34;q&#34;, [0]]], [[&#34;q&#34;, [1]], [&#34;q&#34;, [1]]], [[&#34;q&#34;, [2]], [&#34;q&#34;, [2]]]], &#34;phase&#34;: &#34;0.0&#34;, &#34;qubits&#34;: [[&#34;q&#34;, [0]], [&#34;q&#34;, [1]], [&#34;q&#34;, [2]]]}, &#34;id&#34;: &#34;09816918-bc84-4f90-bf5d-a43bb60cd2dd&#34;, &#34;type&#34;: &#34;CircBox&#34;}, &#34;type&#34;: &#34;CircBox&#34;}}, {&#34;args&#34;: [[&#34;q&#34;, [0]], [&#34;q&#34;, [1]], [&#34;q&#34;, [2]], [&#34;q&#34;, [3]], [&#34;q&#34;, [4]], [&#34;q&#34;, [5]]], &#34;op&#34;: {&#34;box&#34;: {&#34;circuit&#34;: {&#34;bits&#34;: [], &#34;commands&#34;: [{&#34;args&#34;: [[&#34;q&#34;, [0]], [&#34;q&#34;, [1]], [&#34;q&#34;, [2]], [&#34;q&#34;, [3]], [&#34;q&#34;, [4]], [&#34;q&#34;, [5]]], &#34;op&#34;: {&#34;box&#34;: {&#34;id&#34;: &#34;eca1c387-5ac2-464c-a0a1-da98f787e8a7&#34;, &#34;op_map&#34;: [[[false, false, false], [{&#34;box&#34;: {&#34;id&#34;: &#34;a5cc9bb7-df3f-42b3-a0c0-9a7620608f48&#34;, &#34;matrix&#34;: [[[1.0, -0.0], [0.0, -0.0]], [[0.0, -0.0], [-1.0, -0.0]]], &#34;type&#34;: &#34;Unitary1qBox&#34;}, &#34;type&#34;: &#34;Unitary1qBox&#34;}, {&#34;type&#34;: &#34;Z&#34;}, {&#34;type&#34;: &#34;noop&#34;}]], [[false, false, true], [{&#34;box&#34;: {&#34;id&#34;: &#34;c66ad062-c978-40f2-beb0-b49de37d6c6d&#34;, &#34;matrix&#34;: [[[1.0, -0.0], [0.0, -0.0]], [[0.0, -0.0], [1.0, -0.0]]], &#34;type&#34;: &#34;Unitary1qBox&#34;}, &#34;type&#34;: &#34;Unitary1qBox&#34;}, {&#34;type&#34;: &#34;Z&#34;}, {&#34;type&#34;: &#34;Z&#34;}]], [[false, true, false], [{&#34;box&#34;: {&#34;id&#34;: &#34;d025c719-e4a9-4466-861a-396e82d64a4e&#34;, &#34;matrix&#34;: [[[0.0, -0.0], [1.0, -0.0]], [[1.0, -0.0], [0.0, -0.0]]], &#34;type&#34;: &#34;Unitary1qBox&#34;}, &#34;type&#34;: &#34;Unitary1qBox&#34;}, {&#34;type&#34;: &#34;noop&#34;}, {&#34;type&#34;: &#34;noop&#34;}]], [[false, true, true], [{&#34;box&#34;: {&#34;id&#34;: &#34;c18430e6-1c92-432e-a514-8b4a6c07527b&#34;, &#34;matrix&#34;: [[[1.0, -0.0], [0.0, -0.0]], [[0.0, -0.0], [1.0, -0.0]]], &#34;type&#34;: &#34;Unitary1qBox&#34;}, &#34;type&#34;: &#34;Unitary1qBox&#34;}, {&#34;type&#34;: &#34;X&#34;}, {&#34;type&#34;: &#34;noop&#34;}]], [[true, false, false], [{&#34;box&#34;: {&#34;id&#34;: &#34;69231ce1-db4a-4a5d-8bfe-92e90e8f9da9&#34;, &#34;matrix&#34;: [[[1.0, -0.0], [0.0, -0.0]], [[0.0, -0.0], [1.0, -0.0]]], &#34;type&#34;: &#34;Unitary1qBox&#34;}, &#34;type&#34;: &#34;Unitary1qBox&#34;}, {&#34;type&#34;: &#34;noop&#34;}, {&#34;type&#34;: &#34;X&#34;}]]], &#34;type&#34;: &#34;MultiplexedTensoredU2Box&#34;}, &#34;type&#34;: &#34;MultiplexedTensoredU2Box&#34;}}], &#34;created_qubits&#34;: [], &#34;discarded_qubits&#34;: [], &#34;implicit_permutation&#34;: [[[&#34;q&#34;, [0]], [&#34;q&#34;, [0]]], [[&#34;q&#34;, [1]], [&#34;q&#34;, [1]]], [[&#34;q&#34;, [2]], [&#34;q&#34;, [2]]], [[&#34;q&#34;, [3]], [&#34;q&#34;, [3]]], [[&#34;q&#34;, [4]], [&#34;q&#34;, [4]]], [[&#34;q&#34;, [5]], [&#34;q&#34;, [5]]]], &#34;phase&#34;: &#34;0.0&#34;, &#34;qubits&#34;: [[&#34;q&#34;, [0]], [&#34;q&#34;, [1]], [&#34;q&#34;, [2]], [&#34;q&#34;, [3]], [&#34;q&#34;, [4]], [&#34;q&#34;, [5]]]}, &#34;id&#34;: &#34;448aa29a-b5c2-4671-be33-a5b2919ac213&#34;, &#34;type&#34;: &#34;CircBox&#34;}, &#34;type&#34;: &#34;CircBox&#34;}}, {&#34;args&#34;: [[&#34;q&#34;, [0]], [&#34;q&#34;, [1]], [&#34;q&#34;, [2]]], &#34;op&#34;: {&#34;box&#34;: {&#34;circuit&#34;: {&#34;bits&#34;: [], &#34;commands&#34;: [{&#34;args&#34;: [[&#34;q&#34;, [0]], [&#34;q&#34;, [1]], [&#34;q&#34;, [2]]], &#34;op&#34;: {&#34;box&#34;: {&#34;id&#34;: &#34;32c79ba5-fee7-4945-be44-880c6dd3e974&#34;, &#34;is_inverse&#34;: true, &#34;statevector&#34;: [[[0.4472135954999579, 0.0]], [[0.4472135954999579, 0.0]], [[0.4472135954999579, 0.0]], [[0.4472135954999579, 0.0]], [[0.4472135954999579, 0.0]], [[0.0, 0.0]], [[0.0, 0.0]], [[0.0, 0.0]]], &#34;type&#34;: &#34;StatePreparationBox&#34;, &#34;with_initial_reset&#34;: false}, &#34;type&#34;: &#34;StatePreparationBox&#34;}}], &#34;created_qubits&#34;: [], &#34;discarded_qubits&#34;: [], &#34;implicit_permutation&#34;: [[[&#34;q&#34;, [0]], [&#34;q&#34;, [0]]], [[&#34;q&#34;, [1]], [&#34;q&#34;, [1]]], [[&#34;q&#34;, [2]], [&#34;q&#34;, [2]]]], &#34;phase&#34;: &#34;0.0&#34;, &#34;qubits&#34;: [[&#34;q&#34;, [0]], [&#34;q&#34;, [1]], [&#34;q&#34;, [2]]]}, &#34;id&#34;: &#34;d894b7a9-8866-4afb-834f-aeac68a3e38f&#34;, &#34;type&#34;: &#34;CircBox&#34;}, &#34;type&#34;: &#34;CircBox&#34;}}], &#34;created_qubits&#34;: [], &#34;discarded_qubits&#34;: [], &#34;implicit_permutation&#34;: [[[&#34;q&#34;, [0]], [&#34;q&#34;, [0]]], [[&#34;q&#34;, [1]], [&#34;q&#34;, [1]]], [[&#34;q&#34;, [2]], [&#34;q&#34;, [2]]], [[&#34;q&#34;, [3]], [&#34;q&#34;, [3]]], [[&#34;q&#34;, [4]], [&#34;q&#34;, [4]]], [[&#34;q&#34;, [5]], [&#34;q&#34;, [5]]]], &#34;name&#34;: &#34;LCUMultiplexorBox\\u2020&#34;, &#34;phase&#34;: &#34;0.0&#34;, &#34;qubits&#34;: [[&#34;q&#34;, [0]], [&#34;q&#34;, [1]], [&#34;q&#34;, [2]], [&#34;q&#34;, [3]], [&#34;q&#34;, [4]], [&#34;q&#34;, [5]]]}, &#34;id&#34;: &#34;b5c75911-6bce-41de-82c9-ec268aaaec93&#34;, &#34;type&#34;: &#34;CircBox&#34;}, &#34;type&#34;: &#34;CircBox&#34;}}, {&#34;args&#34;: [[&#34;q&#34;, [0]], [&#34;q&#34;, [1]], [&#34;q&#34;, [2]]], &#34;op&#34;: {&#34;box&#34;: {&#34;circuit&#34;: {&#34;bits&#34;: [], &#34;commands&#34;: [{&#34;args&#34;: [[&#34;q&#34;, [0]]], &#34;op&#34;: {&#34;type&#34;: &#34;X&#34;}}, {&#34;args&#34;: [[&#34;q&#34;, [1]]], &#34;op&#34;: {&#34;type&#34;: &#34;X&#34;}}, {&#34;args&#34;: [[&#34;q&#34;, [2]]], &#34;op&#34;: {&#34;type&#34;: &#34;X&#34;}}, {&#34;args&#34;: [[&#34;q&#34;, [1]], [&#34;q&#34;, [2]], [&#34;q&#34;, [0]]], &#34;op&#34;: {&#34;n_qb&#34;: 3, &#34;type&#34;: &#34;CnZ&#34;}}, {&#34;args&#34;: [[&#34;q&#34;, [0]]], &#34;op&#34;: {&#34;type&#34;: &#34;X&#34;}}, {&#34;args&#34;: [[&#34;q&#34;, [1]]], &#34;op&#34;: {&#34;type&#34;: &#34;X&#34;}}, {&#34;args&#34;: [[&#34;q&#34;, [2]]], &#34;op&#34;: {&#34;type&#34;: &#34;X&#34;}}], &#34;created_qubits&#34;: [], &#34;discarded_qubits&#34;: [], &#34;implicit_permutation&#34;: [[[&#34;q&#34;, [0]], [&#34;q&#34;, [0]]], [[&#34;q&#34;, [1]], [&#34;q&#34;, [1]]], [[&#34;q&#34;, [2]], [&#34;q&#34;, [2]]]], &#34;name&#34;: &#34;ReflectionBox&#34;, &#34;phase&#34;: &#34;0.0&#34;, &#34;qubits&#34;: [[&#34;q&#34;, [0]], [&#34;q&#34;, [1]], [&#34;q&#34;, [2]]]}, &#34;id&#34;: &#34;f6eca8f2-e56d-4619-a9e9-05ca13e5a324&#34;, &#34;type&#34;: &#34;CircBox&#34;}, &#34;type&#34;: &#34;CircBox&#34;}}, {&#34;args&#34;: [[&#34;q&#34;, [0]], [&#34;q&#34;, [1]], [&#34;q&#34;, [2]], [&#34;q&#34;, [3]], [&#34;q&#34;, [4]], [&#34;q&#34;, [5]]], &#34;op&#34;: {&#34;box&#34;: {&#34;circuit&#34;: {&#34;bits&#34;: [], &#34;commands&#34;: [{&#34;args&#34;: [[&#34;q&#34;, [0]], [&#34;q&#34;, [1]], [&#34;q&#34;, [2]]], &#34;op&#34;: {&#34;box&#34;: {&#34;circuit&#34;: {&#34;bits&#34;: [], &#34;commands&#34;: [{&#34;args&#34;: [[&#34;q&#34;, [0]], [&#34;q&#34;, [1]], [&#34;q&#34;, [2]]], &#34;op&#34;: {&#34;box&#34;: {&#34;id&#34;: &#34;8165c5b0-eda1-437d-ba7e-7bc6a68d5c1d&#34;, &#34;is_inverse&#34;: false, &#34;statevector&#34;: [[[0.4472135954999579, 0.0]], [[0.4472135954999579, 0.0]], [[0.4472135954999579, 0.0]], [[0.4472135954999579, 0.0]], [[0.4472135954999579, 0.0]], [[0.0, 0.0]], [[0.0, 0.0]], [[0.0, 0.0]]], &#34;type&#34;: &#34;StatePreparationBox&#34;, &#34;with_initial_reset&#34;: false}, &#34;type&#34;: &#34;StatePreparationBox&#34;}}], &#34;created_qubits&#34;: [], &#34;discarded_qubits&#34;: [], &#34;implicit_permutation&#34;: [[[&#34;q&#34;, [0]], [&#34;q&#34;, [0]]], [[&#34;q&#34;, [1]], [&#34;q&#34;, [1]]], [[&#34;q&#34;, [2]], [&#34;q&#34;, [2]]]], &#34;name&#34;: &#34;PrepareMultiplexorBox&#34;, &#34;phase&#34;: &#34;0.0&#34;, &#34;qubits&#34;: [[&#34;q&#34;, [0]], [&#34;q&#34;, [1]], [&#34;q&#34;, [2]]]}, &#34;id&#34;: &#34;e35bef66-b608-442a-94ff-0e6deb5f02b3&#34;, &#34;type&#34;: &#34;CircBox&#34;}, &#34;type&#34;: &#34;CircBox&#34;}}, {&#34;args&#34;: [[&#34;q&#34;, [0]], [&#34;q&#34;, [1]], [&#34;q&#34;, [2]], [&#34;q&#34;, [3]], [&#34;q&#34;, [4]], [&#34;q&#34;, [5]]], &#34;op&#34;: {&#34;box&#34;: {&#34;circuit&#34;: {&#34;bits&#34;: [], &#34;commands&#34;: [{&#34;args&#34;: [[&#34;q&#34;, [0]], [&#34;q&#34;, [1]], [&#34;q&#34;, [2]], [&#34;q&#34;, [3]], [&#34;q&#34;, [4]], [&#34;q&#34;, [5]]], &#34;op&#34;: {&#34;box&#34;: {&#34;id&#34;: &#34;fa4ede34-0412-448f-af0a-be191a64e266&#34;, &#34;op_map&#34;: [[[false, false, false], [{&#34;box&#34;: {&#34;id&#34;: &#34;fb228d0d-618a-4236-a47e-f4890a7eae33&#34;, &#34;matrix&#34;: [[[1.0, 0.0], [0.0, 0.0]], [[0.0, 0.0], [-1.0, 0.0]]], &#34;type&#34;: &#34;Unitary1qBox&#34;}, &#34;type&#34;: &#34;Unitary1qBox&#34;}, {&#34;type&#34;: &#34;Z&#34;}, {&#34;type&#34;: &#34;noop&#34;}]], [[false, false, true], [{&#34;box&#34;: {&#34;id&#34;: &#34;2b0fd2c1-9fc7-4337-9f25-b8256ebb4794&#34;, &#34;matrix&#34;: [[[1.0, 0.0], [0.0, 0.0]], [[0.0, 0.0], [1.0, 0.0]]], &#34;type&#34;: &#34;Unitary1qBox&#34;}, &#34;type&#34;: &#34;Unitary1qBox&#34;}, {&#34;type&#34;: &#34;Z&#34;}, {&#34;type&#34;: &#34;Z&#34;}]], [[false, true, false], [{&#34;box&#34;: {&#34;id&#34;: &#34;f844dfed-260d-4ca6-a003-a08a86690bb3&#34;, &#34;matrix&#34;: [[[0.0, 0.0], [1.0, 0.0]], [[1.0, 0.0], [0.0, 0.0]]], &#34;type&#34;: &#34;Unitary1qBox&#34;}, &#34;type&#34;: &#34;Unitary1qBox&#34;}, {&#34;type&#34;: &#34;noop&#34;}, {&#34;type&#34;: &#34;noop&#34;}]], [[false, true, true], [{&#34;box&#34;: {&#34;id&#34;: &#34;30f1a6c1-21b2-4cd0-bd7f-a169c66f8425&#34;, &#34;matrix&#34;: [[[1.0, 0.0], [0.0, 0.0]], [[0.0, 0.0], [1.0, 0.0]]], &#34;type&#34;: &#34;Unitary1qBox&#34;}, &#34;type&#34;: &#34;Unitary1qBox&#34;}, {&#34;type&#34;: &#34;X&#34;}, {&#34;type&#34;: &#34;noop&#34;}]], [[true, false, false], [{&#34;box&#34;: {&#34;id&#34;: &#34;cd29dfd4-03b8-450d-a68b-7cb5870d9f76&#34;, &#34;matrix&#34;: [[[1.0, 0.0], [0.0, 0.0]], [[0.0, 0.0], [1.0, 0.0]]], &#34;type&#34;: &#34;Unitary1qBox&#34;}, &#34;type&#34;: &#34;Unitary1qBox&#34;}, {&#34;type&#34;: &#34;noop&#34;}, {&#34;type&#34;: &#34;X&#34;}]]], &#34;type&#34;: &#34;MultiplexedTensoredU2Box&#34;}, &#34;type&#34;: &#34;MultiplexedTensoredU2Box&#34;}}], &#34;created_qubits&#34;: [], &#34;discarded_qubits&#34;: [], &#34;implicit_permutation&#34;: [[[&#34;q&#34;, [0]], [&#34;q&#34;, [0]]], [[&#34;q&#34;, [1]], [&#34;q&#34;, [1]]], [[&#34;q&#34;, [2]], [&#34;q&#34;, [2]]], [[&#34;q&#34;, [3]], [&#34;q&#34;, [3]]], [[&#34;q&#34;, [4]], [&#34;q&#34;, [4]]], [[&#34;q&#34;, [5]], [&#34;q&#34;, [5]]]], &#34;name&#34;: &#34;SelectMultiplexorBox&#34;, &#34;phase&#34;: &#34;0.0&#34;, &#34;qubits&#34;: [[&#34;q&#34;, [0]], [&#34;q&#34;, [1]], [&#34;q&#34;, [2]], [&#34;q&#34;, [3]], [&#34;q&#34;, [4]], [&#34;q&#34;, [5]]]}, &#34;id&#34;: &#34;a86c4a35-2e7b-4f49-8503-98be17151033&#34;, &#34;type&#34;: &#34;CircBox&#34;}, &#34;type&#34;: &#34;CircBox&#34;}}, {&#34;args&#34;: [[&#34;q&#34;, [0]], [&#34;q&#34;, [1]], [&#34;q&#34;, [2]]], &#34;op&#34;: {&#34;box&#34;: {&#34;circuit&#34;: {&#34;bits&#34;: [], &#34;commands&#34;: [{&#34;args&#34;: [[&#34;q&#34;, [0]], [&#34;q&#34;, [1]], [&#34;q&#34;, [2]]], &#34;op&#34;: {&#34;box&#34;: {&#34;id&#34;: &#34;329fb4c8-9034-4896-bb9b-5d0748e36e95&#34;, &#34;is_inverse&#34;: true, &#34;statevector&#34;: [[[0.4472135954999579, 0.0]], [[0.4472135954999579, 0.0]], [[0.4472135954999579, 0.0]], [[0.4472135954999579, 0.0]], [[0.4472135954999579, 0.0]], [[0.0, 0.0]], [[0.0, 0.0]], [[0.0, 0.0]]], &#34;type&#34;: &#34;StatePreparationBox&#34;, &#34;with_initial_reset&#34;: false}, &#34;type&#34;: &#34;StatePreparationBox&#34;}}], &#34;created_qubits&#34;: [], &#34;discarded_qubits&#34;: [], &#34;implicit_permutation&#34;: [[[&#34;q&#34;, [0]], [&#34;q&#34;, [0]]], [[&#34;q&#34;, [1]], [&#34;q&#34;, [1]]], [[&#34;q&#34;, [2]], [&#34;q&#34;, [2]]]], &#34;name&#34;: &#34;PrepareMultiplexorBox\\u2020&#34;, &#34;phase&#34;: &#34;0.0&#34;, &#34;qubits&#34;: [[&#34;q&#34;, [0]], [&#34;q&#34;, [1]], [&#34;q&#34;, [2]]]}, &#34;id&#34;: &#34;b068161c-a57a-4154-ba50-0ebcfabd3aee&#34;, &#34;type&#34;: &#34;CircBox&#34;}, &#34;type&#34;: &#34;CircBox&#34;}}], &#34;created_qubits&#34;: [], &#34;discarded_qubits&#34;: [], &#34;implicit_permutation&#34;: [[[&#34;q&#34;, [0]], [&#34;q&#34;, [0]]], [[&#34;q&#34;, [1]], [&#34;q&#34;, [1]]], [[&#34;q&#34;, [2]], [&#34;q&#34;, [2]]], [[&#34;q&#34;, [3]], [&#34;q&#34;, [3]]], [[&#34;q&#34;, [4]], [&#34;q&#34;, [4]]], [[&#34;q&#34;, [5]], [&#34;q&#34;, [5]]]], &#34;name&#34;: &#34;LCUMultiplexorBox&#34;, &#34;phase&#34;: &#34;0.0&#34;, &#34;qubits&#34;: [[&#34;q&#34;, [0]], [&#34;q&#34;, [1]], [&#34;q&#34;, [2]], [&#34;q&#34;, [3]], [&#34;q&#34;, [4]], [&#34;q&#34;, [5]]]}, &#34;id&#34;: &#34;95b0aa4e-f19b-47bc-9816-273ff9b6ff55&#34;, &#34;type&#34;: &#34;CircBox&#34;}, &#34;type&#34;: &#34;CircBox&#34;}}], &#34;created_qubits&#34;: [], &#34;discarded_qubits&#34;: [], &#34;implicit_permutation&#34;: [[[&#34;q&#34;, [0]], [&#34;q&#34;, [0]]], [[&#34;q&#34;, [1]], [&#34;q&#34;, [1]]], [[&#34;q&#34;, [2]], [&#34;q&#34;, [2]]], [[&#34;q&#34;, [3]], [&#34;q&#34;, [3]]], [[&#34;q&#34;, [4]], [&#34;q&#34;, [4]]], [[&#34;q&#34;, [5]], [&#34;q&#34;, [5]]]], &#34;name&#34;: &#34;AmplificationBox&#34;, &#34;phase&#34;: &#34;0.0&#34;, &#34;qubits&#34;: [[&#34;q&#34;, [0]], [&#34;q&#34;, [1]], [&#34;q&#34;, [2]], [&#34;q&#34;, [3]], [&#34;q&#34;, [4]], [&#34;q&#34;, [5]]]}, &#34;id&#34;: &#34;a310cd57-0531-43a0-9e98-4ce03332ee02&#34;, &#34;type&#34;: &#34;CircBox&#34;}, &#34;type&#34;: &#34;CircBox&#34;}}], &#34;created_qubits&#34;: [], &#34;discarded_qubits&#34;: [], &#34;implicit_permutation&#34;: [[[&#34;p&#34;, [0]], [&#34;p&#34;, [0]]], [[&#34;p&#34;, [1]], [&#34;p&#34;, [1]]], [[&#34;p&#34;, [2]], [&#34;p&#34;, [2]]], [[&#34;q&#34;, [0]], [&#34;q&#34;, [0]]], [[&#34;q&#34;, [1]], [&#34;q&#34;, [1]]], [[&#34;q&#34;, [2]], [&#34;q&#34;, [2]]]], &#34;phase&#34;: &#34;0.0&#34;, &#34;qubits&#34;: [[&#34;p&#34;, [0]], [&#34;p&#34;, [1]], [&#34;p&#34;, [2]], [&#34;q&#34;, [0]], [&#34;q&#34;, [1]], [&#34;q&#34;, [2]]]}&lt;/div&gt;\n",
       "        &lt;/div&gt;\n",
       "        &lt;circuit-display-container\n",
       "                :circuit-element-str=&#34;&#39;#circuit-json-to-display&#39;&#34;\n",
       "                :init-render-options=&#34;initRenderOptions&#34;\n",
       "        &gt;&lt;/circuit-display-container&gt;\n",
       "    &lt;/div&gt;\n",
       "    &lt;script type=&#34;application/javascript&#34;&gt;\n",
       "      const circuitRendererUid = &#34;35ce0d4d-78e1-42c0-ae6f-130014906599&#34;;\n",
       "      const displayOptions = JSON.parse(&#39;{}&#39;);\n",
       "\n",
       "      // Script to initialise the circuit renderer app\n",
       "\n",
       "const { createApp } = Vue;\n",
       "const circuitDisplayContainer = window[&#34;pytket-circuit-renderer&#34;].default;\n",
       "// Init variables to be shared between circuit display instances\n",
       "if (typeof window.pytketCircuitDisplays === &#34;undefined&#34;) {\n",
       "    window.pytketCircuitDisplays = {};\n",
       "}\n",
       "// Create the root Vue component\n",
       "const app = createApp({\n",
       "    delimiters: [&#39;[[#&#39;, &#39;#]]&#39;],\n",
       "    components: { circuitDisplayContainer },\n",
       "    data () {\n",
       "      return {\n",
       "        initRenderOptions: displayOptions,\n",
       "      }\n",
       "    }\n",
       "})\n",
       "app.config.unwrapInjectedRef = true;\n",
       "app.mount(&#34;#circuit-display-vue-container-&#34;+circuitRendererUid);\n",
       "window.pytketCircuitDisplays[circuitRendererUid] = app;\n",
       "    &lt;/script&gt;\n",
       "\n",
       "\n",
       "\n",
       "&lt;/body&gt;\n",
       "&lt;/html&gt;\n",
       "\"\n",
       "            width=\"100%\" height=\"100%\"\n",
       "            style=\"border: none; outline: none; overflow: auto\"></iframe>\n",
       "</div>\n",
       "\n"
      ],
      "text/plain": [
       "<IPython.core.display.HTML object>"
      ]
     },
     "metadata": {},
     "output_type": "display_data"
    }
   ],
   "source": [
    "lcu_amp_circ = lcu_box.initialise_circuit()\n",
    "lcu_amp_circ.add_gate(state0_cbox,lcu_box.qreg.state) #add initial state\n",
    "# circ.q_registers\n",
    "qreg_map = QRegMap(lcu_box.q_registers, lcu_amp_circ.q_registers)\n",
    "lcu_amp_circ.add_registerbox(lcu_box, qreg_map)\n",
    "qreg_map2 = QRegMap(amp_box.q_registers, lcu_amp_circ.q_registers)\n",
    "lcu_amp_circ.add_registerbox(amp_box, qreg_map2)\n",
    "print('Amplified LCU circuit:')\n",
    "render_circuit_jupyter(lcu_amp_circ)\n"
   ]
  },
  {
   "attachments": {},
   "cell_type": "markdown",
   "metadata": {},
   "source": [
    "Run and measure the amplified circuit for n_shots..."
   ]
  },
  {
   "cell_type": "code",
   "execution_count": 8,
   "metadata": {},
   "outputs": [
    {
     "name": "stdout",
     "output_type": "stream",
     "text": [
      "running...\n",
      "total shots: 4096, successful shots: 2025\n",
      "final state distribution: {'(0, 0, 0)': 242, '(0, 0, 1)': 307, '(0, 1, 0)': 1, '(0, 1, 1)': 143, '(1, 0, 0)': 111, '(1, 0, 1)': 28, '(1, 1, 0)': 283, '(1, 1, 1)': 910}\n",
      "measurement success probability: 0.494384765625, analytical est.: [[0.49388257+0.j]]\n",
      "Without amplification, the measurement success probability was 0.378173828125 (analytical est.: [[0.36954907+0.j]])\n"
     ]
    }
   ],
   "source": [
    "cp = lcu_amp_circ.add_c_register(\"cp\", lcu_box.qreg.prepare.size) #len(lcu_box._p)\n",
    "cq = lcu_amp_circ.add_c_register('cq', lcu_box.qreg.state.size)\n",
    "\n",
    "for ii in range(lcu_box.qreg.prepare.size):\n",
    "    lcu_amp_circ.Measure(lcu_box.qreg.prepare[ii],cp[ii])\n",
    "for ii in range(lcu_box.qreg.state.size):\n",
    "    lcu_amp_circ.Measure(lcu_box.qreg.state[ii],cq[ii])\n",
    "compiled_circ = backend.get_compiled_circuit(lcu_amp_circ, optimisation_level=1)\n",
    "print('running...')\n",
    "\n",
    "result = backend.run_circuit(compiled_circ, n_shots=n_shots)\n",
    "result._state = None\n",
    "result_dist = result.get_counts() #get_distribution()\n",
    "p_reg_size = lcu_box.qreg.prepare.size\n",
    "amp_lcu_post_select_dist =  {str(kk[p_reg_size:]) : v for kk,v in result_dist.items() if kk[:p_reg_size] == tuple(0 for i in range(p_reg_size))}\n",
    "\n",
    "\n",
    "print(f'total shots: {n_shots}, successful shots: {sum(amp_lcu_post_select_dist.values())}')\n",
    "print(f'final state distribution: {amp_lcu_post_select_dist}')\n",
    "print(f'measurement success probability: {sum(amp_lcu_post_select_dist.values())/n_shots}, analytical est.: {success_probability_amp}')\n",
    "print(f'Without amplification, the measurement success probability was {sum(lcu_post_select_dist.values())/n_shots} (analytical est.: {success_probability})')"
   ]
  },
  {
   "attachments": {},
   "cell_type": "markdown",
   "metadata": {},
   "source": [
    "### Example 2 -- "
   ]
  },
  {
   "cell_type": "code",
   "execution_count": 9,
   "metadata": {},
   "outputs": [],
   "source": [
    "from pytket.utils.operators import QubitPauliOperator\n",
    "from pytket.pauli import Pauli, QubitPauliString\n",
    "from pytket.circuit import Qubit\n",
    "\n",
    "hamiltonian = QubitPauliOperator(\n",
    "        {\n",
    "            QubitPauliString(\n",
    "                [Qubit(0), Qubit(1), Qubit(2)], [Pauli.Z, Pauli.X, Pauli.Y]\n",
    "            ): -0.5,\n",
    "            QubitPauliString(\n",
    "                [Qubit(0), Qubit(1), Qubit(2)], [Pauli.X, Pauli.Z, Pauli.Z]\n",
    "            ): -0.1,\n",
    "            QubitPauliString(\n",
    "                [Qubit(0), Qubit(1), Qubit(2)], [Pauli.Y, Pauli.Y, Pauli.X]\n",
    "            ): -0.2j,\n",
    "            QubitPauliString(\n",
    "                [Qubit(0), Qubit(1), Qubit(2)], [Pauli.X, Pauli.X, Pauli.Y]\n",
    "            ): -0.3,\n",
    "        })"
   ]
  },
  {
   "cell_type": "code",
   "execution_count": 10,
   "metadata": {},
   "outputs": [
    {
     "name": "stdout",
     "output_type": "stream",
     "text": [
      "running LCU...\n",
      "total shots: 4096, successful shots: 1489\n",
      "final state distribution: {'(0, 0, 0)': 806, '(0, 0, 1)': 181, '(0, 1, 0)': 14, '(0, 1, 1)': 322, '(1, 0, 0)': 79, '(1, 0, 1)': 37, '(1, 1, 0)': 44, '(1, 1, 1)': 6}\n",
      "measurement success probability: 0.363525390625\n",
      "success probability (analytical): [[0.36682009+3.58413941e-18j]]\n",
      "amplified success probability (analytical): [[0.54883225+0.j]]\n",
      "running with AmplificationBox...\n",
      "total shots: 4096, successful shots: 2218\n",
      "final state distribution: {'(0, 0, 0)': 806, '(0, 0, 1)': 714, '(0, 1, 0)': 120, '(0, 1, 1)': 257, '(1, 0, 0)': 85, '(1, 0, 1)': 93, '(1, 1, 0)': 77, '(1, 1, 1)': 66}\n",
      "measurement success probability: 0.54150390625, analytical est.: [[0.54883225+0.j]]\n",
      "Without amplification, the measurement success probability was 0.363525390625 (analytical est.: [[0.36682009+3.58413941e-18j]])\n"
     ]
    }
   ],
   "source": [
    "n_state_qubits = len(hamiltonian.all_qubits)\n",
    "np.random.seed(10)\n",
    "state0 = np.random.rand(2**n_state_qubits) + (\n",
    "        1j * np.random.rand(2**n_state_qubits)\n",
    "    )\n",
    "state0 = state0 / np.sqrt(state0.conj().T @ state0)\n",
    "state0_cbox = StatePreparationBox(state0)\n",
    "\n",
    "lcu_box = LCUMultiplexorBox(hamiltonian,n_state_qubits)\n",
    "lcu_box_circ = lcu_box.get_circuit()\n",
    "lcu_circ = lcu_box.initialise_circuit()\n",
    "lcu_circ.add_gate(state0_cbox,lcu_box.qreg.state) #add initial state\n",
    "qreg_map = QRegMap(lcu_box.q_registers, lcu_circ.q_registers)\n",
    "lcu_circ.add_registerbox(lcu_box, qreg_map)\n",
    "\n",
    "cp = lcu_circ.add_c_register(\"cp\", lcu_box.qreg.prepare.size) #len(lcu_box._p)\n",
    "cq = lcu_circ.add_c_register('cq', lcu_box.qreg.state.size)\n",
    "\n",
    "for ii in range(lcu_box.qreg.prepare.size):\n",
    "    lcu_circ.Measure(lcu_box.qreg.prepare[ii],cp[ii])\n",
    "for ii in range(lcu_box.qreg.state.size):\n",
    "    lcu_circ.Measure(lcu_box.qreg.state[ii],cq[ii])\n",
    "\n",
    "\n",
    "n_shots = 2**12\n",
    "compiled_circ = backend.get_compiled_circuit(lcu_circ, optimisation_level=1)\n",
    "print('running LCU...')\n",
    "\n",
    "result = backend.run_circuit(compiled_circ, n_shots=n_shots)\n",
    "result._state = None\n",
    "result_dist = result.get_counts() #get_distribution()\n",
    "p_reg_size = lcu_box.qreg.prepare.size\n",
    "lcu_post_select_dist =  {str(kk[p_reg_size:]) : v for kk,v in result_dist.items() if kk[:p_reg_size] == tuple(0 for i in range(p_reg_size))}\n",
    "print(f'total shots: {n_shots}, successful shots: {sum(lcu_post_select_dist.values())}')\n",
    "print(f'final state distribution: {lcu_post_select_dist}')\n",
    "print(f'measurement success probability: {sum(lcu_post_select_dist.values())/n_shots}')\n",
    "\n",
    "lcu_block_mat = hamiltonian.to_sparse_matrix().todense()\n",
    "statef = lcu_block_mat @ state0\n",
    "alpha = lcu_box.l1_norm\n",
    "success_probability = (statef @ statef.conj().transpose())/np.abs(alpha)**2\n",
    "print(f'success probability (analytical): {success_probability}')\n",
    "\n",
    "statef_amp = ((3 * lcu_block_mat) - ( (4/alpha**2) * lcu_block_mat @ lcu_block_mat.conj().transpose() @ lcu_block_mat)) @ state0\n",
    "success_probability_amp = ( statef_amp @ statef_amp.conj().transpose())/alpha**2\n",
    "print(f'amplified success probability (analytical): {success_probability_amp}')\n",
    "\n",
    "n_iterations = 1\n",
    "amp_box = AmplificationBox(lcu_box, n_iterations)\n",
    "lcu_amp_circ = lcu_box.initialise_circuit()\n",
    "lcu_amp_circ.add_gate(state0_cbox,lcu_box.qreg.state.to_list()) #add initial state\n",
    "qreg_map = QRegMap(lcu_box.q_registers, lcu_amp_circ.q_registers)\n",
    "lcu_amp_circ.add_registerbox(lcu_box, qreg_map)\n",
    "qreg_map2 = QRegMap(amp_box.q_registers, lcu_amp_circ.q_registers)\n",
    "lcu_amp_circ.add_registerbox(amp_box, qreg_map2)\n",
    "\n",
    "cp = lcu_amp_circ.add_c_register(\"cp\", lcu_box.qreg.prepare.size) #len(lcu_box._p)\n",
    "cq = lcu_amp_circ.add_c_register('cq', lcu_box.qreg.state.size)\n",
    "\n",
    "for ii in range(lcu_box.qreg.prepare.size):\n",
    "    lcu_amp_circ.Measure(lcu_box.qreg.prepare[ii],cp[ii])\n",
    "for ii in range(lcu_box.qreg.state.size):\n",
    "    lcu_amp_circ.Measure(lcu_box.qreg.state[ii],cq[ii])\n",
    "compiled_circ = backend.get_compiled_circuit(lcu_amp_circ, optimisation_level=1)\n",
    "print('running with AmplificationBox...')\n",
    "\n",
    "result = backend.run_circuit(compiled_circ, n_shots=n_shots)\n",
    "result._state = None\n",
    "result_dist = result.get_counts() #get_distribution()\n",
    "p_reg_size = lcu_box.qreg.prepare.size\n",
    "amp_lcu_post_select_dist =  {str(kk[p_reg_size:]) : v for kk,v in result_dist.items() if kk[:p_reg_size] == tuple(0 for i in range(p_reg_size))}\n",
    "\n",
    "\n",
    "print(f'total shots: {n_shots}, successful shots: {sum(amp_lcu_post_select_dist.values())}')\n",
    "print(f'final state distribution: {amp_lcu_post_select_dist}')\n",
    "print(f'measurement success probability: {sum(amp_lcu_post_select_dist.values())/n_shots}, analytical est.: {success_probability_amp}')\n",
    "print(f'Without amplification, the measurement success probability was {sum(lcu_post_select_dist.values())/n_shots} (analytical est.: {success_probability})')\n"
   ]
  }
 ],
 "metadata": {
  "kernelspec": {
   "display_name": ".venv",
   "language": "python",
   "name": "python3"
  },
  "language_info": {
   "codemirror_mode": {
    "name": "ipython",
    "version": 3
   },
   "file_extension": ".py",
   "mimetype": "text/x-python",
   "name": "python",
   "nbconvert_exporter": "python",
   "pygments_lexer": "ipython3",
   "version": "3.12.0"
  },
  "orig_nbformat": 4,
  "vscode": {
   "interpreter": {
    "hash": "e869fe626e2ec29503b8f070f62b37d4cec0dee0e8169aeb8a7b0f309cb56962"
   }
  }
 },
 "nbformat": 4,
 "nbformat_minor": 2
}
